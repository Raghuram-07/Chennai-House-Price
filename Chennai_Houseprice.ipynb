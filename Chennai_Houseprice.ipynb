{
  "nbformat": 4,
  "nbformat_minor": 0,
  "metadata": {
    "colab": {
      "name": "Chennai_Houseprice.ipynb",
      "provenance": [],
      "collapsed_sections": []
    },
    "kernelspec": {
      "name": "python3",
      "display_name": "Python 3"
    },
    "language_info": {
      "name": "python"
    }
  },
  "cells": [
    {
      "cell_type": "markdown",
      "source": [
        "# ***CHENNAI HOUSE PRICE PREDICTIONS***\n",
        "\n",
        "---\n",
        "\n",
        "\n",
        "\n",
        "---\n",
        "\n",
        "\n",
        "\n",
        "---\n",
        "\n"
      ],
      "metadata": {
        "id": "wyj47LfHm2GS"
      }
    },
    {
      "cell_type": "markdown",
      "source": [
        "***PROBLEM STATEMENT***\n",
        "\n",
        "\n",
        "---\n",
        "\n",
        "\n",
        "\n",
        "---\n",
        "\n"
      ],
      "metadata": {
        "id": "Pt52bq3VnCBv"
      }
    },
    {
      "cell_type": "markdown",
      "source": [
        "Real estate transactions are quite opaque sometimes and it may be difficult for a newbie to know the fair price of any given home. \n",
        "\n",
        "Thus, multiple real estate websites have the functionality to predict the prices of houses given different features regarding it. \n",
        "\n",
        "Such forecasting models will help buyers to identify a fair price for the home and also give insights to sellers as to how to build homes that fetch them more money."
      ],
      "metadata": {
        "id": "P3FicsnznpZm"
      }
    },
    {
      "cell_type": "markdown",
      "source": [
        "***OBJECTIVE***\n",
        "\n",
        "\n",
        "---\n",
        "\n",
        "\n",
        "\n",
        "---\n",
        "\n"
      ],
      "metadata": {
        "id": "lqy4jDLQn2b3"
      }
    },
    {
      "cell_type": "markdown",
      "source": [
        "\n",
        "\n",
        "1.   to build a sale price prediction model that will aid the customers to find a fair price for their homes\n",
        "\n",
        "2.   to help the sellers understand what factors are fetching more money for the houses"
      ],
      "metadata": {
        "id": "4ZTILZdAoB0I"
      }
    },
    {
      "cell_type": "markdown",
      "source": [
        "# ***PROCESS FLOW***\n",
        "\n",
        "\n",
        "---\n",
        "\n",
        "\n",
        "\n",
        "---\n",
        "\n"
      ],
      "metadata": {
        "id": "DkOtGI9Zoivs"
      }
    },
    {
      "cell_type": "markdown",
      "source": [
        "Now that we know what we have to do, this is how I have planned to process the data to build the models.\n",
        "\n",
        "\n",
        "\n",
        "*   Data Cleaning\n",
        "\n",
        "*   Enhanced Data ANalysis\n",
        "\n",
        "*   Modeling"
      ],
      "metadata": {
        "id": "XGtusSCEowi4"
      }
    },
    {
      "cell_type": "markdown",
      "source": [
        "# ***DATA CLEANING***\n",
        "\n",
        "---\n",
        "\n",
        "\n",
        "\n",
        "---\n",
        "\n"
      ],
      "metadata": {
        "id": "O2sMNQrGpx84"
      }
    },
    {
      "cell_type": "markdown",
      "source": [
        "In this segment we read the data from the CSV file and convert it into a pandas dataframe.\n",
        "\n",
        "Then we understand each column in the given data set along with cleaning wherever necessary.\n",
        "\n",
        "Things that I will be looking for cleaning are as follows:\n",
        "\n",
        "\n",
        "1.   Null Values\n",
        "\n",
        "2.   Data type\n",
        "\n",
        "3.   Spelling mistakes\n",
        "\n",
        "4.  Occurrence of outliers\n",
        "\n",
        "5.   Duplicated\n",
        "\n",
        "6. Construction Of Features if needed"
      ],
      "metadata": {
        "id": "jH2uS22Vp4_-"
      }
    },
    {
      "cell_type": "code",
      "execution_count": 1,
      "metadata": {
        "id": "2rfKFUa9Q7j4"
      },
      "outputs": [],
      "source": [
        "import pandas as pd\n",
        "import numpy as np\n",
        "import matplotlib.pyplot as plt\n",
        "import seaborn as sns"
      ]
    },
    {
      "cell_type": "code",
      "source": [
        "data = pd.read_csv('/train-chennai-sale.csv')"
      ],
      "metadata": {
        "id": "sElK4rK3SAvJ"
      },
      "execution_count": 3,
      "outputs": []
    },
    {
      "cell_type": "code",
      "source": [
        "data.shape"
      ],
      "metadata": {
        "colab": {
          "base_uri": "https://localhost:8080/"
        },
        "id": "qwlQZrtySTpk",
        "outputId": "8c6bbbdc-da04-49d4-fc79-ff05c15db18c"
      },
      "execution_count": 4,
      "outputs": [
        {
          "output_type": "execute_result",
          "data": {
            "text/plain": [
              "(7109, 22)"
            ]
          },
          "metadata": {},
          "execution_count": 4
        }
      ]
    },
    {
      "cell_type": "code",
      "source": [
        "data.head()"
      ],
      "metadata": {
        "colab": {
          "base_uri": "https://localhost:8080/",
          "height": 386
        },
        "id": "Y7l6H5uBSZSP",
        "outputId": "5226d485-3c8a-49cb-d1a0-fd3849e2ed99"
      },
      "execution_count": 5,
      "outputs": [
        {
          "output_type": "execute_result",
          "data": {
            "text/plain": [
              "   PRT_ID        AREA  INT_SQFT   DATE_SALE  DIST_MAINROAD  N_BEDROOM  \\\n",
              "0  P03210  Karapakkam      1004  04-05-2011            131        1.0   \n",
              "1  P09411  Anna Nagar      1986  19-12-2006             26        2.0   \n",
              "2  P01812       Adyar       909  04-02-2012             70        1.0   \n",
              "3  P05346   Velachery      1855  13-03-2010             14        3.0   \n",
              "4  P06210  Karapakkam      1226  05-10-2009             84        1.0   \n",
              "\n",
              "   N_BATHROOM  N_ROOM SALE_COND PARK_FACIL  ... UTILITY_AVAIL  STREET MZZONE  \\\n",
              "0         1.0       3  AbNormal        Yes  ...        AllPub   Paved      A   \n",
              "1         1.0       5  AbNormal         No  ...        AllPub  Gravel     RH   \n",
              "2         1.0       3  AbNormal        Yes  ...           ELO  Gravel     RL   \n",
              "3         2.0       5    Family         No  ...       NoSewr    Paved      I   \n",
              "4         1.0       3  AbNormal        Yes  ...        AllPub  Gravel      C   \n",
              "\n",
              "  QS_ROOMS QS_BATHROOM  QS_BEDROOM  QS_OVERALL  REG_FEE  COMMIS  SALES_PRICE  \n",
              "0      4.0         3.9         4.9       4.330   380000  144400      7600000  \n",
              "1      4.9         4.2         2.5       3.765   760122  304049     21717770  \n",
              "2      4.1         3.8         2.2       3.090   421094   92114     13159200  \n",
              "3      4.7         3.9         3.6       4.010   356321   77042      9630290  \n",
              "4      3.0         2.5         4.1       3.290   237000   74063      7406250  \n",
              "\n",
              "[5 rows x 22 columns]"
            ],
            "text/html": [
              "\n",
              "  <div id=\"df-0190da60-1fd7-49d5-a2f8-f5b0232bd6ec\">\n",
              "    <div class=\"colab-df-container\">\n",
              "      <div>\n",
              "<style scoped>\n",
              "    .dataframe tbody tr th:only-of-type {\n",
              "        vertical-align: middle;\n",
              "    }\n",
              "\n",
              "    .dataframe tbody tr th {\n",
              "        vertical-align: top;\n",
              "    }\n",
              "\n",
              "    .dataframe thead th {\n",
              "        text-align: right;\n",
              "    }\n",
              "</style>\n",
              "<table border=\"1\" class=\"dataframe\">\n",
              "  <thead>\n",
              "    <tr style=\"text-align: right;\">\n",
              "      <th></th>\n",
              "      <th>PRT_ID</th>\n",
              "      <th>AREA</th>\n",
              "      <th>INT_SQFT</th>\n",
              "      <th>DATE_SALE</th>\n",
              "      <th>DIST_MAINROAD</th>\n",
              "      <th>N_BEDROOM</th>\n",
              "      <th>N_BATHROOM</th>\n",
              "      <th>N_ROOM</th>\n",
              "      <th>SALE_COND</th>\n",
              "      <th>PARK_FACIL</th>\n",
              "      <th>...</th>\n",
              "      <th>UTILITY_AVAIL</th>\n",
              "      <th>STREET</th>\n",
              "      <th>MZZONE</th>\n",
              "      <th>QS_ROOMS</th>\n",
              "      <th>QS_BATHROOM</th>\n",
              "      <th>QS_BEDROOM</th>\n",
              "      <th>QS_OVERALL</th>\n",
              "      <th>REG_FEE</th>\n",
              "      <th>COMMIS</th>\n",
              "      <th>SALES_PRICE</th>\n",
              "    </tr>\n",
              "  </thead>\n",
              "  <tbody>\n",
              "    <tr>\n",
              "      <th>0</th>\n",
              "      <td>P03210</td>\n",
              "      <td>Karapakkam</td>\n",
              "      <td>1004</td>\n",
              "      <td>04-05-2011</td>\n",
              "      <td>131</td>\n",
              "      <td>1.0</td>\n",
              "      <td>1.0</td>\n",
              "      <td>3</td>\n",
              "      <td>AbNormal</td>\n",
              "      <td>Yes</td>\n",
              "      <td>...</td>\n",
              "      <td>AllPub</td>\n",
              "      <td>Paved</td>\n",
              "      <td>A</td>\n",
              "      <td>4.0</td>\n",
              "      <td>3.9</td>\n",
              "      <td>4.9</td>\n",
              "      <td>4.330</td>\n",
              "      <td>380000</td>\n",
              "      <td>144400</td>\n",
              "      <td>7600000</td>\n",
              "    </tr>\n",
              "    <tr>\n",
              "      <th>1</th>\n",
              "      <td>P09411</td>\n",
              "      <td>Anna Nagar</td>\n",
              "      <td>1986</td>\n",
              "      <td>19-12-2006</td>\n",
              "      <td>26</td>\n",
              "      <td>2.0</td>\n",
              "      <td>1.0</td>\n",
              "      <td>5</td>\n",
              "      <td>AbNormal</td>\n",
              "      <td>No</td>\n",
              "      <td>...</td>\n",
              "      <td>AllPub</td>\n",
              "      <td>Gravel</td>\n",
              "      <td>RH</td>\n",
              "      <td>4.9</td>\n",
              "      <td>4.2</td>\n",
              "      <td>2.5</td>\n",
              "      <td>3.765</td>\n",
              "      <td>760122</td>\n",
              "      <td>304049</td>\n",
              "      <td>21717770</td>\n",
              "    </tr>\n",
              "    <tr>\n",
              "      <th>2</th>\n",
              "      <td>P01812</td>\n",
              "      <td>Adyar</td>\n",
              "      <td>909</td>\n",
              "      <td>04-02-2012</td>\n",
              "      <td>70</td>\n",
              "      <td>1.0</td>\n",
              "      <td>1.0</td>\n",
              "      <td>3</td>\n",
              "      <td>AbNormal</td>\n",
              "      <td>Yes</td>\n",
              "      <td>...</td>\n",
              "      <td>ELO</td>\n",
              "      <td>Gravel</td>\n",
              "      <td>RL</td>\n",
              "      <td>4.1</td>\n",
              "      <td>3.8</td>\n",
              "      <td>2.2</td>\n",
              "      <td>3.090</td>\n",
              "      <td>421094</td>\n",
              "      <td>92114</td>\n",
              "      <td>13159200</td>\n",
              "    </tr>\n",
              "    <tr>\n",
              "      <th>3</th>\n",
              "      <td>P05346</td>\n",
              "      <td>Velachery</td>\n",
              "      <td>1855</td>\n",
              "      <td>13-03-2010</td>\n",
              "      <td>14</td>\n",
              "      <td>3.0</td>\n",
              "      <td>2.0</td>\n",
              "      <td>5</td>\n",
              "      <td>Family</td>\n",
              "      <td>No</td>\n",
              "      <td>...</td>\n",
              "      <td>NoSewr</td>\n",
              "      <td>Paved</td>\n",
              "      <td>I</td>\n",
              "      <td>4.7</td>\n",
              "      <td>3.9</td>\n",
              "      <td>3.6</td>\n",
              "      <td>4.010</td>\n",
              "      <td>356321</td>\n",
              "      <td>77042</td>\n",
              "      <td>9630290</td>\n",
              "    </tr>\n",
              "    <tr>\n",
              "      <th>4</th>\n",
              "      <td>P06210</td>\n",
              "      <td>Karapakkam</td>\n",
              "      <td>1226</td>\n",
              "      <td>05-10-2009</td>\n",
              "      <td>84</td>\n",
              "      <td>1.0</td>\n",
              "      <td>1.0</td>\n",
              "      <td>3</td>\n",
              "      <td>AbNormal</td>\n",
              "      <td>Yes</td>\n",
              "      <td>...</td>\n",
              "      <td>AllPub</td>\n",
              "      <td>Gravel</td>\n",
              "      <td>C</td>\n",
              "      <td>3.0</td>\n",
              "      <td>2.5</td>\n",
              "      <td>4.1</td>\n",
              "      <td>3.290</td>\n",
              "      <td>237000</td>\n",
              "      <td>74063</td>\n",
              "      <td>7406250</td>\n",
              "    </tr>\n",
              "  </tbody>\n",
              "</table>\n",
              "<p>5 rows × 22 columns</p>\n",
              "</div>\n",
              "      <button class=\"colab-df-convert\" onclick=\"convertToInteractive('df-0190da60-1fd7-49d5-a2f8-f5b0232bd6ec')\"\n",
              "              title=\"Convert this dataframe to an interactive table.\"\n",
              "              style=\"display:none;\">\n",
              "        \n",
              "  <svg xmlns=\"http://www.w3.org/2000/svg\" height=\"24px\"viewBox=\"0 0 24 24\"\n",
              "       width=\"24px\">\n",
              "    <path d=\"M0 0h24v24H0V0z\" fill=\"none\"/>\n",
              "    <path d=\"M18.56 5.44l.94 2.06.94-2.06 2.06-.94-2.06-.94-.94-2.06-.94 2.06-2.06.94zm-11 1L8.5 8.5l.94-2.06 2.06-.94-2.06-.94L8.5 2.5l-.94 2.06-2.06.94zm10 10l.94 2.06.94-2.06 2.06-.94-2.06-.94-.94-2.06-.94 2.06-2.06.94z\"/><path d=\"M17.41 7.96l-1.37-1.37c-.4-.4-.92-.59-1.43-.59-.52 0-1.04.2-1.43.59L10.3 9.45l-7.72 7.72c-.78.78-.78 2.05 0 2.83L4 21.41c.39.39.9.59 1.41.59.51 0 1.02-.2 1.41-.59l7.78-7.78 2.81-2.81c.8-.78.8-2.07 0-2.86zM5.41 20L4 18.59l7.72-7.72 1.47 1.35L5.41 20z\"/>\n",
              "  </svg>\n",
              "      </button>\n",
              "      \n",
              "  <style>\n",
              "    .colab-df-container {\n",
              "      display:flex;\n",
              "      flex-wrap:wrap;\n",
              "      gap: 12px;\n",
              "    }\n",
              "\n",
              "    .colab-df-convert {\n",
              "      background-color: #E8F0FE;\n",
              "      border: none;\n",
              "      border-radius: 50%;\n",
              "      cursor: pointer;\n",
              "      display: none;\n",
              "      fill: #1967D2;\n",
              "      height: 32px;\n",
              "      padding: 0 0 0 0;\n",
              "      width: 32px;\n",
              "    }\n",
              "\n",
              "    .colab-df-convert:hover {\n",
              "      background-color: #E2EBFA;\n",
              "      box-shadow: 0px 1px 2px rgba(60, 64, 67, 0.3), 0px 1px 3px 1px rgba(60, 64, 67, 0.15);\n",
              "      fill: #174EA6;\n",
              "    }\n",
              "\n",
              "    [theme=dark] .colab-df-convert {\n",
              "      background-color: #3B4455;\n",
              "      fill: #D2E3FC;\n",
              "    }\n",
              "\n",
              "    [theme=dark] .colab-df-convert:hover {\n",
              "      background-color: #434B5C;\n",
              "      box-shadow: 0px 1px 3px 1px rgba(0, 0, 0, 0.15);\n",
              "      filter: drop-shadow(0px 1px 2px rgba(0, 0, 0, 0.3));\n",
              "      fill: #FFFFFF;\n",
              "    }\n",
              "  </style>\n",
              "\n",
              "      <script>\n",
              "        const buttonEl =\n",
              "          document.querySelector('#df-0190da60-1fd7-49d5-a2f8-f5b0232bd6ec button.colab-df-convert');\n",
              "        buttonEl.style.display =\n",
              "          google.colab.kernel.accessAllowed ? 'block' : 'none';\n",
              "\n",
              "        async function convertToInteractive(key) {\n",
              "          const element = document.querySelector('#df-0190da60-1fd7-49d5-a2f8-f5b0232bd6ec');\n",
              "          const dataTable =\n",
              "            await google.colab.kernel.invokeFunction('convertToInteractive',\n",
              "                                                     [key], {});\n",
              "          if (!dataTable) return;\n",
              "\n",
              "          const docLinkHtml = 'Like what you see? Visit the ' +\n",
              "            '<a target=\"_blank\" href=https://colab.research.google.com/notebooks/data_table.ipynb>data table notebook</a>'\n",
              "            + ' to learn more about interactive tables.';\n",
              "          element.innerHTML = '';\n",
              "          dataTable['output_type'] = 'display_data';\n",
              "          await google.colab.output.renderOutput(dataTable, element);\n",
              "          const docLink = document.createElement('div');\n",
              "          docLink.innerHTML = docLinkHtml;\n",
              "          element.appendChild(docLink);\n",
              "        }\n",
              "      </script>\n",
              "    </div>\n",
              "  </div>\n",
              "  "
            ]
          },
          "metadata": {},
          "execution_count": 5
        }
      ]
    },
    {
      "cell_type": "code",
      "source": [
        "data = data.drop(columns = ['PRT_ID','REG_FEE','COMMIS'])"
      ],
      "metadata": {
        "id": "OO61gZwnC5Dd"
      },
      "execution_count": 6,
      "outputs": []
    },
    {
      "cell_type": "code",
      "source": [
        "data.info()"
      ],
      "metadata": {
        "colab": {
          "base_uri": "https://localhost:8080/"
        },
        "id": "YkF34YXFSX1c",
        "outputId": "3ab9d99e-df3f-4d9d-c847-136d51a99072"
      },
      "execution_count": 7,
      "outputs": [
        {
          "output_type": "stream",
          "name": "stdout",
          "text": [
            "<class 'pandas.core.frame.DataFrame'>\n",
            "RangeIndex: 7109 entries, 0 to 7108\n",
            "Data columns (total 19 columns):\n",
            " #   Column         Non-Null Count  Dtype  \n",
            "---  ------         --------------  -----  \n",
            " 0   AREA           7109 non-null   object \n",
            " 1   INT_SQFT       7109 non-null   int64  \n",
            " 2   DATE_SALE      7109 non-null   object \n",
            " 3   DIST_MAINROAD  7109 non-null   int64  \n",
            " 4   N_BEDROOM      7108 non-null   float64\n",
            " 5   N_BATHROOM     7104 non-null   float64\n",
            " 6   N_ROOM         7109 non-null   int64  \n",
            " 7   SALE_COND      7109 non-null   object \n",
            " 8   PARK_FACIL     7109 non-null   object \n",
            " 9   DATE_BUILD     7109 non-null   object \n",
            " 10  BUILDTYPE      7109 non-null   object \n",
            " 11  UTILITY_AVAIL  7109 non-null   object \n",
            " 12  STREET         7109 non-null   object \n",
            " 13  MZZONE         7109 non-null   object \n",
            " 14  QS_ROOMS       7109 non-null   float64\n",
            " 15  QS_BATHROOM    7109 non-null   float64\n",
            " 16  QS_BEDROOM     7109 non-null   float64\n",
            " 17  QS_OVERALL     7061 non-null   float64\n",
            " 18  SALES_PRICE    7109 non-null   int64  \n",
            "dtypes: float64(6), int64(4), object(9)\n",
            "memory usage: 1.0+ MB\n"
          ]
        }
      ]
    },
    {
      "cell_type": "code",
      "source": [
        "data.columns"
      ],
      "metadata": {
        "colab": {
          "base_uri": "https://localhost:8080/"
        },
        "id": "3GtJNnVNSfjc",
        "outputId": "08ab221a-f3e5-42c8-b0f8-07804bfda0a1"
      },
      "execution_count": 8,
      "outputs": [
        {
          "output_type": "execute_result",
          "data": {
            "text/plain": [
              "Index(['AREA', 'INT_SQFT', 'DATE_SALE', 'DIST_MAINROAD', 'N_BEDROOM',\n",
              "       'N_BATHROOM', 'N_ROOM', 'SALE_COND', 'PARK_FACIL', 'DATE_BUILD',\n",
              "       'BUILDTYPE', 'UTILITY_AVAIL', 'STREET', 'MZZONE', 'QS_ROOMS',\n",
              "       'QS_BATHROOM', 'QS_BEDROOM', 'QS_OVERALL', 'SALES_PRICE'],\n",
              "      dtype='object')"
            ]
          },
          "metadata": {},
          "execution_count": 8
        }
      ]
    },
    {
      "cell_type": "markdown",
      "source": [
        "**AREA**\n",
        "\n",
        "---\n",
        "\n",
        "\n",
        "\n",
        "---\n",
        "\n"
      ],
      "metadata": {
        "id": "errdSX4sStLl"
      }
    },
    {
      "cell_type": "code",
      "source": [
        "data.AREA.values"
      ],
      "metadata": {
        "colab": {
          "base_uri": "https://localhost:8080/"
        },
        "id": "mjJ0v1SqSrpS",
        "outputId": "7867e2c6-f93e-49f5-e5ee-eec456e5f29c"
      },
      "execution_count": 9,
      "outputs": [
        {
          "output_type": "execute_result",
          "data": {
            "text/plain": [
              "array(['Karapakkam', 'Anna Nagar', 'Adyar', ..., 'Velachery',\n",
              "       'Karapakkam', 'Velachery'], dtype=object)"
            ]
          },
          "metadata": {},
          "execution_count": 9
        }
      ]
    },
    {
      "cell_type": "code",
      "source": [
        "data.AREA.unique()"
      ],
      "metadata": {
        "colab": {
          "base_uri": "https://localhost:8080/"
        },
        "id": "Ib74F0aBTB9F",
        "outputId": "1fd7737c-cb7a-4a7a-e5bc-a85af1cad930"
      },
      "execution_count": 10,
      "outputs": [
        {
          "output_type": "execute_result",
          "data": {
            "text/plain": [
              "array(['Karapakkam', 'Anna Nagar', 'Adyar', 'Velachery', 'Chrompet',\n",
              "       'KK Nagar', 'TNagar', 'T Nagar', 'Chrompt', 'Chrmpet', 'Karapakam',\n",
              "       'Ana Nagar', 'Chormpet', 'Adyr', 'Velchery', 'Ann Nagar',\n",
              "       'KKNagar'], dtype=object)"
            ]
          },
          "metadata": {},
          "execution_count": 10
        }
      ]
    },
    {
      "cell_type": "code",
      "source": [
        "data.AREA.replace('Karapakam', 'Karapakkam', inplace=True)\n",
        "data.AREA.replace('Ann Nagar', 'Anna Nagar', inplace=True)\n",
        "data.AREA.replace('Adyr', 'Adyar', inplace=True)\n",
        "data.AREA.replace('Velchery', 'Velachery', inplace=True)\n",
        "data.AREA.replace('Chrompt', 'Chrompet', inplace=True)\n",
        "data.AREA.replace('Chrmpet', 'Chrompet', inplace=True)\n",
        "data.AREA.replace('KKNagar', 'KK Nagar', inplace=True)\n",
        "data.AREA.replace('TNagar', 'T Nagar', inplace=True)\n",
        "data.AREA.replace('Chormpet', 'Chrompet', inplace=True)\n",
        "data.AREA.replace('Ana Nagar', 'Anna Nagar', inplace=True)"
      ],
      "metadata": {
        "id": "9u41xzO2TGiH"
      },
      "execution_count": 11,
      "outputs": []
    },
    {
      "cell_type": "code",
      "source": [
        "data.AREA.unique()"
      ],
      "metadata": {
        "colab": {
          "base_uri": "https://localhost:8080/"
        },
        "id": "oSAtUCkmUuWq",
        "outputId": "aa299086-fe2c-4d5c-9140-44db181b33ee"
      },
      "execution_count": 12,
      "outputs": [
        {
          "output_type": "execute_result",
          "data": {
            "text/plain": [
              "array(['Karapakkam', 'Anna Nagar', 'Adyar', 'Velachery', 'Chrompet',\n",
              "       'KK Nagar', 'T Nagar'], dtype=object)"
            ]
          },
          "metadata": {},
          "execution_count": 12
        }
      ]
    },
    {
      "cell_type": "code",
      "source": [
        "data.AREA.isnull().sum()"
      ],
      "metadata": {
        "colab": {
          "base_uri": "https://localhost:8080/"
        },
        "id": "rkei7u2BWamr",
        "outputId": "b57bf849-a303-4e10-d0be-db624cfc01aa"
      },
      "execution_count": 13,
      "outputs": [
        {
          "output_type": "execute_result",
          "data": {
            "text/plain": [
              "0"
            ]
          },
          "metadata": {},
          "execution_count": 13
        }
      ]
    },
    {
      "cell_type": "markdown",
      "source": [
        "**INT_SQFT**\n",
        "\n",
        "---\n",
        "\n",
        "\n",
        "\n",
        "---\n",
        "\n"
      ],
      "metadata": {
        "id": "nZOV7UHaXQTZ"
      }
    },
    {
      "cell_type": "code",
      "source": [
        "data.INT_SQFT.isnull().sum()"
      ],
      "metadata": {
        "colab": {
          "base_uri": "https://localhost:8080/"
        },
        "id": "fPguf6KZXdNH",
        "outputId": "eb9addf4-6156-41d8-f5f8-e0b9f124e0d2"
      },
      "execution_count": 14,
      "outputs": [
        {
          "output_type": "execute_result",
          "data": {
            "text/plain": [
              "0"
            ]
          },
          "metadata": {},
          "execution_count": 14
        }
      ]
    },
    {
      "cell_type": "code",
      "source": [
        "data.INT_SQFT.describe()"
      ],
      "metadata": {
        "colab": {
          "base_uri": "https://localhost:8080/"
        },
        "id": "fBNvedHl6FmA",
        "outputId": "1a7761ef-63d7-45f8-cbb1-237f24ccbae8"
      },
      "execution_count": 15,
      "outputs": [
        {
          "output_type": "execute_result",
          "data": {
            "text/plain": [
              "count    7109.000000\n",
              "mean     1382.073006\n",
              "std       457.410902\n",
              "min       500.000000\n",
              "25%       993.000000\n",
              "50%      1373.000000\n",
              "75%      1744.000000\n",
              "max      2500.000000\n",
              "Name: INT_SQFT, dtype: float64"
            ]
          },
          "metadata": {},
          "execution_count": 15
        }
      ]
    },
    {
      "cell_type": "markdown",
      "source": [
        "**DATE_SALE**\n",
        "\n",
        "---\n",
        "\n",
        "\n",
        "\n",
        "---\n",
        "\n"
      ],
      "metadata": {
        "id": "nFS8CueNYMWJ"
      }
    },
    {
      "cell_type": "code",
      "source": [
        "data.DATE_SALE.values[0]"
      ],
      "metadata": {
        "colab": {
          "base_uri": "https://localhost:8080/",
          "height": 35
        },
        "id": "N4EOUtObYSIn",
        "outputId": "2e36a6c4-c428-4878-a732-60dc021f8449"
      },
      "execution_count": 16,
      "outputs": [
        {
          "output_type": "execute_result",
          "data": {
            "text/plain": [
              "'04-05-2011'"
            ],
            "application/vnd.google.colaboratory.intrinsic+json": {
              "type": "string"
            }
          },
          "metadata": {},
          "execution_count": 16
        }
      ]
    },
    {
      "cell_type": "code",
      "source": [
        "data.DATE_SALE.isnull().sum()"
      ],
      "metadata": {
        "colab": {
          "base_uri": "https://localhost:8080/"
        },
        "id": "5bpcIAQpYpXZ",
        "outputId": "56f19ccb-5968-4036-e097-b7278ca58e95"
      },
      "execution_count": 17,
      "outputs": [
        {
          "output_type": "execute_result",
          "data": {
            "text/plain": [
              "0"
            ]
          },
          "metadata": {},
          "execution_count": 17
        }
      ]
    },
    {
      "cell_type": "markdown",
      "source": [
        "**DATE_BUILD**\n",
        "\n",
        "---\n",
        "\n",
        "\n",
        "\n",
        "---\n",
        "\n"
      ],
      "metadata": {
        "id": "SXBw4jVdbial"
      }
    },
    {
      "cell_type": "code",
      "source": [
        "data.DATE_BUILD.values[0]"
      ],
      "metadata": {
        "colab": {
          "base_uri": "https://localhost:8080/",
          "height": 35
        },
        "id": "7ndVUkN3bhvQ",
        "outputId": "608886a1-9d23-4a3d-cded-05012709d5c7"
      },
      "execution_count": 18,
      "outputs": [
        {
          "output_type": "execute_result",
          "data": {
            "text/plain": [
              "'15-05-1967'"
            ],
            "application/vnd.google.colaboratory.intrinsic+json": {
              "type": "string"
            }
          },
          "metadata": {},
          "execution_count": 18
        }
      ]
    },
    {
      "cell_type": "code",
      "source": [
        "data.DATE_BUILD.isnull().sum()"
      ],
      "metadata": {
        "colab": {
          "base_uri": "https://localhost:8080/"
        },
        "id": "s3JfVTi-b0-a",
        "outputId": "fb1c2dc0-ca1c-4dc3-a4df-d2f49fbbedd9"
      },
      "execution_count": 19,
      "outputs": [
        {
          "output_type": "execute_result",
          "data": {
            "text/plain": [
              "0"
            ]
          },
          "metadata": {},
          "execution_count": 19
        }
      ]
    },
    {
      "cell_type": "markdown",
      "source": [
        "**AGE of building**\n",
        "\n",
        "---\n",
        "\n",
        "\n",
        "\n",
        "---\n",
        "\n"
      ],
      "metadata": {
        "id": "39FzBaE1z8M0"
      }
    },
    {
      "cell_type": "code",
      "source": [
        "data.DATE_BUILD = pd.to_datetime(data.DATE_BUILD)\n",
        "data.DATE_SALE = pd.to_datetime(data.DATE_SALE)"
      ],
      "metadata": {
        "id": "U1SpyaGQuYj1"
      },
      "execution_count": 20,
      "outputs": []
    },
    {
      "cell_type": "code",
      "source": [
        "data.DATE_BUILD = data.DATE_BUILD.dt.year\n",
        "data.DATE_SALE = data.DATE_SALE.dt.year"
      ],
      "metadata": {
        "id": "85HggKUHBiOQ"
      },
      "execution_count": 21,
      "outputs": []
    },
    {
      "cell_type": "code",
      "source": [
        "data[\"AGE\"]=data.DATE_SALE-data.DATE_BUILD"
      ],
      "metadata": {
        "id": "mpr8-WVbBpbA"
      },
      "execution_count": 22,
      "outputs": []
    },
    {
      "cell_type": "code",
      "source": [
        "data = data.drop(columns = ['DATE_BUILD','DATE_SALE'])"
      ],
      "metadata": {
        "id": "Ym6lxK4T0rKG"
      },
      "execution_count": 23,
      "outputs": []
    },
    {
      "cell_type": "code",
      "source": [
        "data.head()"
      ],
      "metadata": {
        "colab": {
          "base_uri": "https://localhost:8080/",
          "height": 270
        },
        "id": "BM5NgQqO02at",
        "outputId": "4c44a3d4-4eb1-4e9d-83c0-682399a77d43"
      },
      "execution_count": 24,
      "outputs": [
        {
          "output_type": "execute_result",
          "data": {
            "text/plain": [
              "         AREA  INT_SQFT  DIST_MAINROAD  N_BEDROOM  N_BATHROOM  N_ROOM  \\\n",
              "0  Karapakkam      1004            131        1.0         1.0       3   \n",
              "1  Anna Nagar      1986             26        2.0         1.0       5   \n",
              "2       Adyar       909             70        1.0         1.0       3   \n",
              "3   Velachery      1855             14        3.0         2.0       5   \n",
              "4  Karapakkam      1226             84        1.0         1.0       3   \n",
              "\n",
              "  SALE_COND PARK_FACIL   BUILDTYPE UTILITY_AVAIL  STREET MZZONE  QS_ROOMS  \\\n",
              "0  AbNormal        Yes  Commercial        AllPub   Paved      A       4.0   \n",
              "1  AbNormal         No  Commercial        AllPub  Gravel     RH       4.9   \n",
              "2  AbNormal        Yes  Commercial           ELO  Gravel     RL       4.1   \n",
              "3    Family         No      Others       NoSewr    Paved      I       4.7   \n",
              "4  AbNormal        Yes      Others        AllPub  Gravel      C       3.0   \n",
              "\n",
              "   QS_BATHROOM  QS_BEDROOM  QS_OVERALL  SALES_PRICE  AGE  \n",
              "0          3.9         4.9       4.330      7600000   44  \n",
              "1          4.2         2.5       3.765     21717770   11  \n",
              "2          3.8         2.2       3.090     13159200   20  \n",
              "3          3.9         3.6       4.010      9630290   22  \n",
              "4          2.5         4.1       3.290      7406250   30  "
            ],
            "text/html": [
              "\n",
              "  <div id=\"df-694db921-db95-4b09-97cd-2f91f7a1decc\">\n",
              "    <div class=\"colab-df-container\">\n",
              "      <div>\n",
              "<style scoped>\n",
              "    .dataframe tbody tr th:only-of-type {\n",
              "        vertical-align: middle;\n",
              "    }\n",
              "\n",
              "    .dataframe tbody tr th {\n",
              "        vertical-align: top;\n",
              "    }\n",
              "\n",
              "    .dataframe thead th {\n",
              "        text-align: right;\n",
              "    }\n",
              "</style>\n",
              "<table border=\"1\" class=\"dataframe\">\n",
              "  <thead>\n",
              "    <tr style=\"text-align: right;\">\n",
              "      <th></th>\n",
              "      <th>AREA</th>\n",
              "      <th>INT_SQFT</th>\n",
              "      <th>DIST_MAINROAD</th>\n",
              "      <th>N_BEDROOM</th>\n",
              "      <th>N_BATHROOM</th>\n",
              "      <th>N_ROOM</th>\n",
              "      <th>SALE_COND</th>\n",
              "      <th>PARK_FACIL</th>\n",
              "      <th>BUILDTYPE</th>\n",
              "      <th>UTILITY_AVAIL</th>\n",
              "      <th>STREET</th>\n",
              "      <th>MZZONE</th>\n",
              "      <th>QS_ROOMS</th>\n",
              "      <th>QS_BATHROOM</th>\n",
              "      <th>QS_BEDROOM</th>\n",
              "      <th>QS_OVERALL</th>\n",
              "      <th>SALES_PRICE</th>\n",
              "      <th>AGE</th>\n",
              "    </tr>\n",
              "  </thead>\n",
              "  <tbody>\n",
              "    <tr>\n",
              "      <th>0</th>\n",
              "      <td>Karapakkam</td>\n",
              "      <td>1004</td>\n",
              "      <td>131</td>\n",
              "      <td>1.0</td>\n",
              "      <td>1.0</td>\n",
              "      <td>3</td>\n",
              "      <td>AbNormal</td>\n",
              "      <td>Yes</td>\n",
              "      <td>Commercial</td>\n",
              "      <td>AllPub</td>\n",
              "      <td>Paved</td>\n",
              "      <td>A</td>\n",
              "      <td>4.0</td>\n",
              "      <td>3.9</td>\n",
              "      <td>4.9</td>\n",
              "      <td>4.330</td>\n",
              "      <td>7600000</td>\n",
              "      <td>44</td>\n",
              "    </tr>\n",
              "    <tr>\n",
              "      <th>1</th>\n",
              "      <td>Anna Nagar</td>\n",
              "      <td>1986</td>\n",
              "      <td>26</td>\n",
              "      <td>2.0</td>\n",
              "      <td>1.0</td>\n",
              "      <td>5</td>\n",
              "      <td>AbNormal</td>\n",
              "      <td>No</td>\n",
              "      <td>Commercial</td>\n",
              "      <td>AllPub</td>\n",
              "      <td>Gravel</td>\n",
              "      <td>RH</td>\n",
              "      <td>4.9</td>\n",
              "      <td>4.2</td>\n",
              "      <td>2.5</td>\n",
              "      <td>3.765</td>\n",
              "      <td>21717770</td>\n",
              "      <td>11</td>\n",
              "    </tr>\n",
              "    <tr>\n",
              "      <th>2</th>\n",
              "      <td>Adyar</td>\n",
              "      <td>909</td>\n",
              "      <td>70</td>\n",
              "      <td>1.0</td>\n",
              "      <td>1.0</td>\n",
              "      <td>3</td>\n",
              "      <td>AbNormal</td>\n",
              "      <td>Yes</td>\n",
              "      <td>Commercial</td>\n",
              "      <td>ELO</td>\n",
              "      <td>Gravel</td>\n",
              "      <td>RL</td>\n",
              "      <td>4.1</td>\n",
              "      <td>3.8</td>\n",
              "      <td>2.2</td>\n",
              "      <td>3.090</td>\n",
              "      <td>13159200</td>\n",
              "      <td>20</td>\n",
              "    </tr>\n",
              "    <tr>\n",
              "      <th>3</th>\n",
              "      <td>Velachery</td>\n",
              "      <td>1855</td>\n",
              "      <td>14</td>\n",
              "      <td>3.0</td>\n",
              "      <td>2.0</td>\n",
              "      <td>5</td>\n",
              "      <td>Family</td>\n",
              "      <td>No</td>\n",
              "      <td>Others</td>\n",
              "      <td>NoSewr</td>\n",
              "      <td>Paved</td>\n",
              "      <td>I</td>\n",
              "      <td>4.7</td>\n",
              "      <td>3.9</td>\n",
              "      <td>3.6</td>\n",
              "      <td>4.010</td>\n",
              "      <td>9630290</td>\n",
              "      <td>22</td>\n",
              "    </tr>\n",
              "    <tr>\n",
              "      <th>4</th>\n",
              "      <td>Karapakkam</td>\n",
              "      <td>1226</td>\n",
              "      <td>84</td>\n",
              "      <td>1.0</td>\n",
              "      <td>1.0</td>\n",
              "      <td>3</td>\n",
              "      <td>AbNormal</td>\n",
              "      <td>Yes</td>\n",
              "      <td>Others</td>\n",
              "      <td>AllPub</td>\n",
              "      <td>Gravel</td>\n",
              "      <td>C</td>\n",
              "      <td>3.0</td>\n",
              "      <td>2.5</td>\n",
              "      <td>4.1</td>\n",
              "      <td>3.290</td>\n",
              "      <td>7406250</td>\n",
              "      <td>30</td>\n",
              "    </tr>\n",
              "  </tbody>\n",
              "</table>\n",
              "</div>\n",
              "      <button class=\"colab-df-convert\" onclick=\"convertToInteractive('df-694db921-db95-4b09-97cd-2f91f7a1decc')\"\n",
              "              title=\"Convert this dataframe to an interactive table.\"\n",
              "              style=\"display:none;\">\n",
              "        \n",
              "  <svg xmlns=\"http://www.w3.org/2000/svg\" height=\"24px\"viewBox=\"0 0 24 24\"\n",
              "       width=\"24px\">\n",
              "    <path d=\"M0 0h24v24H0V0z\" fill=\"none\"/>\n",
              "    <path d=\"M18.56 5.44l.94 2.06.94-2.06 2.06-.94-2.06-.94-.94-2.06-.94 2.06-2.06.94zm-11 1L8.5 8.5l.94-2.06 2.06-.94-2.06-.94L8.5 2.5l-.94 2.06-2.06.94zm10 10l.94 2.06.94-2.06 2.06-.94-2.06-.94-.94-2.06-.94 2.06-2.06.94z\"/><path d=\"M17.41 7.96l-1.37-1.37c-.4-.4-.92-.59-1.43-.59-.52 0-1.04.2-1.43.59L10.3 9.45l-7.72 7.72c-.78.78-.78 2.05 0 2.83L4 21.41c.39.39.9.59 1.41.59.51 0 1.02-.2 1.41-.59l7.78-7.78 2.81-2.81c.8-.78.8-2.07 0-2.86zM5.41 20L4 18.59l7.72-7.72 1.47 1.35L5.41 20z\"/>\n",
              "  </svg>\n",
              "      </button>\n",
              "      \n",
              "  <style>\n",
              "    .colab-df-container {\n",
              "      display:flex;\n",
              "      flex-wrap:wrap;\n",
              "      gap: 12px;\n",
              "    }\n",
              "\n",
              "    .colab-df-convert {\n",
              "      background-color: #E8F0FE;\n",
              "      border: none;\n",
              "      border-radius: 50%;\n",
              "      cursor: pointer;\n",
              "      display: none;\n",
              "      fill: #1967D2;\n",
              "      height: 32px;\n",
              "      padding: 0 0 0 0;\n",
              "      width: 32px;\n",
              "    }\n",
              "\n",
              "    .colab-df-convert:hover {\n",
              "      background-color: #E2EBFA;\n",
              "      box-shadow: 0px 1px 2px rgba(60, 64, 67, 0.3), 0px 1px 3px 1px rgba(60, 64, 67, 0.15);\n",
              "      fill: #174EA6;\n",
              "    }\n",
              "\n",
              "    [theme=dark] .colab-df-convert {\n",
              "      background-color: #3B4455;\n",
              "      fill: #D2E3FC;\n",
              "    }\n",
              "\n",
              "    [theme=dark] .colab-df-convert:hover {\n",
              "      background-color: #434B5C;\n",
              "      box-shadow: 0px 1px 3px 1px rgba(0, 0, 0, 0.15);\n",
              "      filter: drop-shadow(0px 1px 2px rgba(0, 0, 0, 0.3));\n",
              "      fill: #FFFFFF;\n",
              "    }\n",
              "  </style>\n",
              "\n",
              "      <script>\n",
              "        const buttonEl =\n",
              "          document.querySelector('#df-694db921-db95-4b09-97cd-2f91f7a1decc button.colab-df-convert');\n",
              "        buttonEl.style.display =\n",
              "          google.colab.kernel.accessAllowed ? 'block' : 'none';\n",
              "\n",
              "        async function convertToInteractive(key) {\n",
              "          const element = document.querySelector('#df-694db921-db95-4b09-97cd-2f91f7a1decc');\n",
              "          const dataTable =\n",
              "            await google.colab.kernel.invokeFunction('convertToInteractive',\n",
              "                                                     [key], {});\n",
              "          if (!dataTable) return;\n",
              "\n",
              "          const docLinkHtml = 'Like what you see? Visit the ' +\n",
              "            '<a target=\"_blank\" href=https://colab.research.google.com/notebooks/data_table.ipynb>data table notebook</a>'\n",
              "            + ' to learn more about interactive tables.';\n",
              "          element.innerHTML = '';\n",
              "          dataTable['output_type'] = 'display_data';\n",
              "          await google.colab.output.renderOutput(dataTable, element);\n",
              "          const docLink = document.createElement('div');\n",
              "          docLink.innerHTML = docLinkHtml;\n",
              "          element.appendChild(docLink);\n",
              "        }\n",
              "      </script>\n",
              "    </div>\n",
              "  </div>\n",
              "  "
            ]
          },
          "metadata": {},
          "execution_count": 24
        }
      ]
    },
    {
      "cell_type": "markdown",
      "source": [
        "**DIST_MAINROAD**\n",
        "\n",
        "---\n",
        "\n",
        "\n",
        "\n",
        "---\n",
        "\n"
      ],
      "metadata": {
        "id": "8pdtKgO1cW76"
      }
    },
    {
      "cell_type": "code",
      "source": [
        "data.DIST_MAINROAD.describe()"
      ],
      "metadata": {
        "colab": {
          "base_uri": "https://localhost:8080/"
        },
        "id": "_DktpDYmcZ8r",
        "outputId": "c4228c1b-355a-4ef3-f196-df70b3152ab0"
      },
      "execution_count": 25,
      "outputs": [
        {
          "output_type": "execute_result",
          "data": {
            "text/plain": [
              "count    7109.000000\n",
              "mean       99.603179\n",
              "std        57.403110\n",
              "min         0.000000\n",
              "25%        50.000000\n",
              "50%        99.000000\n",
              "75%       148.000000\n",
              "max       200.000000\n",
              "Name: DIST_MAINROAD, dtype: float64"
            ]
          },
          "metadata": {},
          "execution_count": 25
        }
      ]
    },
    {
      "cell_type": "code",
      "source": [
        "data.DIST_MAINROAD.isnull().sum()"
      ],
      "metadata": {
        "colab": {
          "base_uri": "https://localhost:8080/"
        },
        "id": "2yFbopwtcnmF",
        "outputId": "13391829-dbf0-4470-e043-3d12955963f1"
      },
      "execution_count": 26,
      "outputs": [
        {
          "output_type": "execute_result",
          "data": {
            "text/plain": [
              "0"
            ]
          },
          "metadata": {},
          "execution_count": 26
        }
      ]
    },
    {
      "cell_type": "markdown",
      "source": [
        "**N_BEDROOM**\n",
        "\n",
        "---\n",
        "\n",
        "\n",
        "\n",
        "---\n",
        "\n"
      ],
      "metadata": {
        "id": "MPerS4Ygc_N7"
      }
    },
    {
      "cell_type": "code",
      "source": [
        "data.N_BEDROOM.isnull().sum()"
      ],
      "metadata": {
        "colab": {
          "base_uri": "https://localhost:8080/"
        },
        "id": "5U8ssQiSdQag",
        "outputId": "0df48e4c-9cfb-49cc-e091-a8f860a17f5f"
      },
      "execution_count": 27,
      "outputs": [
        {
          "output_type": "execute_result",
          "data": {
            "text/plain": [
              "1"
            ]
          },
          "metadata": {},
          "execution_count": 27
        }
      ]
    },
    {
      "cell_type": "code",
      "source": [
        "data['N_BEDROOM'] = data.N_BEDROOM.fillna(data['N_BEDROOM'].mode()[0])"
      ],
      "metadata": {
        "id": "5FTITrx75dwk"
      },
      "execution_count": 28,
      "outputs": []
    },
    {
      "cell_type": "code",
      "source": [
        "data.N_BEDROOM.isnull().sum()"
      ],
      "metadata": {
        "colab": {
          "base_uri": "https://localhost:8080/"
        },
        "id": "wtxR4JcpXBjH",
        "outputId": "33199871-3e6e-4315-dcfe-df3c37771170"
      },
      "execution_count": 29,
      "outputs": [
        {
          "output_type": "execute_result",
          "data": {
            "text/plain": [
              "0"
            ]
          },
          "metadata": {},
          "execution_count": 29
        }
      ]
    },
    {
      "cell_type": "code",
      "source": [
        "data.N_BEDROOM.describe()"
      ],
      "metadata": {
        "colab": {
          "base_uri": "https://localhost:8080/"
        },
        "id": "RYtXvXIwdiJ8",
        "outputId": "447605ef-62d8-4348-9758-556bda316694"
      },
      "execution_count": 30,
      "outputs": [
        {
          "output_type": "execute_result",
          "data": {
            "text/plain": [
              "count    7109.000000\n",
              "mean        1.636939\n",
              "std         0.802881\n",
              "min         1.000000\n",
              "25%         1.000000\n",
              "50%         1.000000\n",
              "75%         2.000000\n",
              "max         4.000000\n",
              "Name: N_BEDROOM, dtype: float64"
            ]
          },
          "metadata": {},
          "execution_count": 30
        }
      ]
    },
    {
      "cell_type": "markdown",
      "source": [
        "N_BATHROOM\n",
        "\n",
        "---\n",
        "\n",
        "\n",
        "\n",
        "---\n",
        "\n"
      ],
      "metadata": {
        "id": "Lsdd_BF4EakA"
      }
    },
    {
      "cell_type": "code",
      "source": [
        "data.N_BATHROOM.isnull().sum()"
      ],
      "metadata": {
        "id": "loZOkpytd08N",
        "colab": {
          "base_uri": "https://localhost:8080/"
        },
        "outputId": "1a563d48-b5c0-417b-f061-bca796ac571d"
      },
      "execution_count": 31,
      "outputs": [
        {
          "output_type": "execute_result",
          "data": {
            "text/plain": [
              "5"
            ]
          },
          "metadata": {},
          "execution_count": 31
        }
      ]
    },
    {
      "cell_type": "code",
      "source": [
        "data['N_BATHROOM'] = data.N_BATHROOM.fillna(data['N_BATHROOM'].mode()[0])"
      ],
      "metadata": {
        "id": "2o1oWYrm5rTA"
      },
      "execution_count": 32,
      "outputs": []
    },
    {
      "cell_type": "code",
      "source": [
        "data.N_BATHROOM.describe()"
      ],
      "metadata": {
        "colab": {
          "base_uri": "https://localhost:8080/"
        },
        "id": "aMAFVCIVEhvP",
        "outputId": "8819a1ec-0e54-4263-fee6-403aa8e9ff0d"
      },
      "execution_count": null,
      "outputs": [
        {
          "output_type": "execute_result",
          "data": {
            "text/plain": [
              "count    7109.000000\n",
              "mean        1.213110\n",
              "std         0.409534\n",
              "min         1.000000\n",
              "25%         1.000000\n",
              "50%         1.000000\n",
              "75%         1.000000\n",
              "max         2.000000\n",
              "Name: N_BATHROOM, dtype: float64"
            ]
          },
          "metadata": {},
          "execution_count": 32
        }
      ]
    },
    {
      "cell_type": "code",
      "source": [
        "data.info()"
      ],
      "metadata": {
        "colab": {
          "base_uri": "https://localhost:8080/"
        },
        "id": "RS_GIWNu4BN6",
        "outputId": "baaf9cd4-a8b2-433d-83a2-3843eb22192a"
      },
      "execution_count": 33,
      "outputs": [
        {
          "output_type": "stream",
          "name": "stdout",
          "text": [
            "<class 'pandas.core.frame.DataFrame'>\n",
            "RangeIndex: 7109 entries, 0 to 7108\n",
            "Data columns (total 18 columns):\n",
            " #   Column         Non-Null Count  Dtype  \n",
            "---  ------         --------------  -----  \n",
            " 0   AREA           7109 non-null   object \n",
            " 1   INT_SQFT       7109 non-null   int64  \n",
            " 2   DIST_MAINROAD  7109 non-null   int64  \n",
            " 3   N_BEDROOM      7109 non-null   float64\n",
            " 4   N_BATHROOM     7109 non-null   float64\n",
            " 5   N_ROOM         7109 non-null   int64  \n",
            " 6   SALE_COND      7109 non-null   object \n",
            " 7   PARK_FACIL     7109 non-null   object \n",
            " 8   BUILDTYPE      7109 non-null   object \n",
            " 9   UTILITY_AVAIL  7109 non-null   object \n",
            " 10  STREET         7109 non-null   object \n",
            " 11  MZZONE         7109 non-null   object \n",
            " 12  QS_ROOMS       7109 non-null   float64\n",
            " 13  QS_BATHROOM    7109 non-null   float64\n",
            " 14  QS_BEDROOM     7109 non-null   float64\n",
            " 15  QS_OVERALL     7061 non-null   float64\n",
            " 16  SALES_PRICE    7109 non-null   int64  \n",
            " 17  AGE            7109 non-null   int64  \n",
            "dtypes: float64(6), int64(5), object(7)\n",
            "memory usage: 999.8+ KB\n"
          ]
        }
      ]
    },
    {
      "cell_type": "markdown",
      "source": [
        "N_ROOM\n",
        "\n",
        "---\n",
        "\n",
        "\n",
        "\n",
        "---\n",
        "\n"
      ],
      "metadata": {
        "id": "EULzv8i-EqkQ"
      }
    },
    {
      "cell_type": "code",
      "source": [
        "data.N_ROOM.isnull().sum()"
      ],
      "metadata": {
        "colab": {
          "base_uri": "https://localhost:8080/"
        },
        "id": "jJyZWtSgEmGI",
        "outputId": "6516e59d-d672-475a-9f90-67f109476301"
      },
      "execution_count": 34,
      "outputs": [
        {
          "output_type": "execute_result",
          "data": {
            "text/plain": [
              "0"
            ]
          },
          "metadata": {},
          "execution_count": 34
        }
      ]
    },
    {
      "cell_type": "code",
      "source": [
        "data.N_ROOM = data.N_ROOM.astype('int64')"
      ],
      "metadata": {
        "id": "OjuxbVlnTsTj"
      },
      "execution_count": 35,
      "outputs": []
    },
    {
      "cell_type": "code",
      "source": [
        "data.N_ROOM.describe()"
      ],
      "metadata": {
        "colab": {
          "base_uri": "https://localhost:8080/"
        },
        "id": "V2ioV4pUExvY",
        "outputId": "219805d1-7347-432f-962d-680781c7c1d9"
      },
      "execution_count": 36,
      "outputs": [
        {
          "output_type": "execute_result",
          "data": {
            "text/plain": [
              "count    7109.000000\n",
              "mean        3.688704\n",
              "std         1.019099\n",
              "min         2.000000\n",
              "25%         3.000000\n",
              "50%         4.000000\n",
              "75%         4.000000\n",
              "max         6.000000\n",
              "Name: N_ROOM, dtype: float64"
            ]
          },
          "metadata": {},
          "execution_count": 36
        }
      ]
    },
    {
      "cell_type": "markdown",
      "source": [
        "SALE_COND\n",
        "\n",
        "---\n",
        "\n",
        "\n",
        "\n",
        "---\n",
        "\n"
      ],
      "metadata": {
        "id": "0cDRlvBgE13_"
      }
    },
    {
      "cell_type": "code",
      "source": [
        "data.SALE_COND.isnull().sum()"
      ],
      "metadata": {
        "colab": {
          "base_uri": "https://localhost:8080/"
        },
        "id": "Pbp7IDkmFAIw",
        "outputId": "50d6b892-c119-4cfd-a0f6-572bae64481c"
      },
      "execution_count": 37,
      "outputs": [
        {
          "output_type": "execute_result",
          "data": {
            "text/plain": [
              "0"
            ]
          },
          "metadata": {},
          "execution_count": 37
        }
      ]
    },
    {
      "cell_type": "code",
      "source": [
        "data.SALE_COND.unique()"
      ],
      "metadata": {
        "colab": {
          "base_uri": "https://localhost:8080/"
        },
        "id": "XcB0e4SEFJnv",
        "outputId": "631278db-3a8f-49db-b9c3-a14a65fbd999"
      },
      "execution_count": 38,
      "outputs": [
        {
          "output_type": "execute_result",
          "data": {
            "text/plain": [
              "array(['AbNormal', 'Family', 'Partial', 'AdjLand', 'Normal Sale',\n",
              "       'Ab Normal', 'Partiall', 'Adj Land', 'PartiaLl'], dtype=object)"
            ]
          },
          "metadata": {},
          "execution_count": 38
        }
      ]
    },
    {
      "cell_type": "code",
      "source": [
        "data.SALE_COND.replace('AbNormal', 'Abnormal', inplace=True)\n",
        "data.SALE_COND.replace('Ab Normal', 'Abnormal', inplace=True)\n",
        "data.SALE_COND.replace('AdjLand', 'Adj Land', inplace=True)\n",
        "data.SALE_COND.replace('Partiall', 'Partial', inplace=True)\n",
        "data.SALE_COND.replace('PartiaLl', 'Partial', inplace=True)"
      ],
      "metadata": {
        "id": "zAFscAxWFtdX"
      },
      "execution_count": 39,
      "outputs": []
    },
    {
      "cell_type": "code",
      "source": [
        "data.SALE_COND.unique()"
      ],
      "metadata": {
        "colab": {
          "base_uri": "https://localhost:8080/"
        },
        "id": "69hBdaY7GOco",
        "outputId": "e78a28ac-2f8b-4ba2-d4bf-043033edcd3e"
      },
      "execution_count": 40,
      "outputs": [
        {
          "output_type": "execute_result",
          "data": {
            "text/plain": [
              "array(['Abnormal', 'Family', 'Partial', 'Adj Land', 'Normal Sale'],\n",
              "      dtype=object)"
            ]
          },
          "metadata": {},
          "execution_count": 40
        }
      ]
    },
    {
      "cell_type": "markdown",
      "source": [
        "PARK_FACIL\n",
        "\n",
        "---\n",
        "\n",
        "\n",
        "\n",
        "---\n",
        "\n"
      ],
      "metadata": {
        "id": "2L8cKTMcGtt4"
      }
    },
    {
      "cell_type": "code",
      "source": [
        "data.PARK_FACIL.isnull().sum()"
      ],
      "metadata": {
        "colab": {
          "base_uri": "https://localhost:8080/"
        },
        "id": "sI5PAxaKGz-o",
        "outputId": "8bcb1f0b-c1c7-4ac2-d5cb-7e0837602c45"
      },
      "execution_count": 41,
      "outputs": [
        {
          "output_type": "execute_result",
          "data": {
            "text/plain": [
              "0"
            ]
          },
          "metadata": {},
          "execution_count": 41
        }
      ]
    },
    {
      "cell_type": "code",
      "source": [
        "data.PARK_FACIL.unique()"
      ],
      "metadata": {
        "colab": {
          "base_uri": "https://localhost:8080/"
        },
        "id": "OZIoZBk4G9wv",
        "outputId": "1ed6a2a2-523e-4317-a3fe-5078c6f27ed9"
      },
      "execution_count": 42,
      "outputs": [
        {
          "output_type": "execute_result",
          "data": {
            "text/plain": [
              "array(['Yes', 'No', 'Noo'], dtype=object)"
            ]
          },
          "metadata": {},
          "execution_count": 42
        }
      ]
    },
    {
      "cell_type": "code",
      "source": [
        "data.PARK_FACIL.replace('Noo', 'No', inplace=True)"
      ],
      "metadata": {
        "id": "clq0UbWWHBpA"
      },
      "execution_count": 43,
      "outputs": []
    },
    {
      "cell_type": "code",
      "source": [
        "data.PARK_FACIL.unique()"
      ],
      "metadata": {
        "colab": {
          "base_uri": "https://localhost:8080/"
        },
        "id": "_nQG5FA9HIO3",
        "outputId": "7a896812-219e-4015-cd1f-ee99298237c5"
      },
      "execution_count": 44,
      "outputs": [
        {
          "output_type": "execute_result",
          "data": {
            "text/plain": [
              "array(['Yes', 'No'], dtype=object)"
            ]
          },
          "metadata": {},
          "execution_count": 44
        }
      ]
    },
    {
      "cell_type": "markdown",
      "source": [
        "BUILDTYPE\n",
        "\n",
        "---\n",
        "\n",
        "\n",
        "\n",
        "---"
      ],
      "metadata": {
        "id": "86F7nGh3m_nF"
      }
    },
    {
      "cell_type": "code",
      "source": [
        "data.BUILDTYPE.isnull().sum()"
      ],
      "metadata": {
        "colab": {
          "base_uri": "https://localhost:8080/"
        },
        "id": "fSc4AP77leFl",
        "outputId": "12e00f0a-d615-4932-cfd6-6cbe64c19ea0"
      },
      "execution_count": 45,
      "outputs": [
        {
          "output_type": "execute_result",
          "data": {
            "text/plain": [
              "0"
            ]
          },
          "metadata": {},
          "execution_count": 45
        }
      ]
    },
    {
      "cell_type": "code",
      "source": [
        "data.BUILDTYPE.unique()"
      ],
      "metadata": {
        "colab": {
          "base_uri": "https://localhost:8080/"
        },
        "id": "4__ZmbS7mDjk",
        "outputId": "74cf860b-f5aa-4d50-e058-34ec0bd65f10"
      },
      "execution_count": 46,
      "outputs": [
        {
          "output_type": "execute_result",
          "data": {
            "text/plain": [
              "array(['Commercial', 'Others', 'Other', 'House', 'Comercial'],\n",
              "      dtype=object)"
            ]
          },
          "metadata": {},
          "execution_count": 46
        }
      ]
    },
    {
      "cell_type": "code",
      "source": [
        "data.BUILDTYPE.replace('Others', 'Other', inplace=True)\n",
        "data.BUILDTYPE.replace('Comercial', 'Commercial', inplace=True)"
      ],
      "metadata": {
        "id": "clT8fKwgnW5b"
      },
      "execution_count": 47,
      "outputs": []
    },
    {
      "cell_type": "code",
      "source": [
        "data.BUILDTYPE.unique()"
      ],
      "metadata": {
        "colab": {
          "base_uri": "https://localhost:8080/"
        },
        "id": "6df2Mdlin1lK",
        "outputId": "9f20224b-1f52-42d8-cfe4-cf7cc16fdf32"
      },
      "execution_count": 48,
      "outputs": [
        {
          "output_type": "execute_result",
          "data": {
            "text/plain": [
              "array(['Commercial', 'Other', 'House'], dtype=object)"
            ]
          },
          "metadata": {},
          "execution_count": 48
        }
      ]
    },
    {
      "cell_type": "markdown",
      "source": [
        "UTILITY_AVAIL\n",
        "\n",
        "---\n",
        "\n",
        "\n",
        "\n",
        "---\n",
        "\n"
      ],
      "metadata": {
        "id": "CTRgGUBLpPQa"
      }
    },
    {
      "cell_type": "code",
      "source": [
        "data.UTILITY_AVAIL.isnull().sum()"
      ],
      "metadata": {
        "colab": {
          "base_uri": "https://localhost:8080/"
        },
        "id": "dOXED2ZYpL9Y",
        "outputId": "911a3e9e-0180-4e31-eecb-a0e7896958a7"
      },
      "execution_count": 49,
      "outputs": [
        {
          "output_type": "execute_result",
          "data": {
            "text/plain": [
              "0"
            ]
          },
          "metadata": {},
          "execution_count": 49
        }
      ]
    },
    {
      "cell_type": "code",
      "source": [
        "data.UTILITY_AVAIL.unique()"
      ],
      "metadata": {
        "colab": {
          "base_uri": "https://localhost:8080/"
        },
        "id": "KW2gFRmYpdMu",
        "outputId": "16416bad-0c0c-42a4-eb3b-a594a1f762cd"
      },
      "execution_count": 50,
      "outputs": [
        {
          "output_type": "execute_result",
          "data": {
            "text/plain": [
              "array(['AllPub', 'ELO', 'NoSewr ', 'NoSeWa', 'All Pub'], dtype=object)"
            ]
          },
          "metadata": {},
          "execution_count": 50
        }
      ]
    },
    {
      "cell_type": "code",
      "source": [
        "data.UTILITY_AVAIL.replace('AllPub', 'All Pub', inplace=True)"
      ],
      "metadata": {
        "id": "lBEGm2rPrNWy"
      },
      "execution_count": 51,
      "outputs": []
    },
    {
      "cell_type": "code",
      "source": [
        "data.UTILITY_AVAIL.unique()"
      ],
      "metadata": {
        "colab": {
          "base_uri": "https://localhost:8080/"
        },
        "id": "C2oIqo_Mr8OZ",
        "outputId": "0809d0fa-a831-44c0-fdcc-27b8c45058b6"
      },
      "execution_count": 52,
      "outputs": [
        {
          "output_type": "execute_result",
          "data": {
            "text/plain": [
              "array(['All Pub', 'ELO', 'NoSewr ', 'NoSeWa'], dtype=object)"
            ]
          },
          "metadata": {},
          "execution_count": 52
        }
      ]
    },
    {
      "cell_type": "markdown",
      "source": [
        "STREET\n",
        "\n",
        "---\n",
        "\n",
        "\n",
        "\n",
        "---\n",
        "\n"
      ],
      "metadata": {
        "id": "o95VCFkss8s7"
      }
    },
    {
      "cell_type": "code",
      "source": [
        "data.STREET.isnull().sum()"
      ],
      "metadata": {
        "colab": {
          "base_uri": "https://localhost:8080/"
        },
        "id": "Udre-Zbis_YD",
        "outputId": "7cca8657-9e93-4735-90e5-3407c7428f35"
      },
      "execution_count": 53,
      "outputs": [
        {
          "output_type": "execute_result",
          "data": {
            "text/plain": [
              "0"
            ]
          },
          "metadata": {},
          "execution_count": 53
        }
      ]
    },
    {
      "cell_type": "code",
      "source": [
        "data.STREET.unique()"
      ],
      "metadata": {
        "colab": {
          "base_uri": "https://localhost:8080/"
        },
        "id": "hKTqM-UQtIQ2",
        "outputId": "27e5d07d-f677-47c9-adc6-f075be4e0731"
      },
      "execution_count": 54,
      "outputs": [
        {
          "output_type": "execute_result",
          "data": {
            "text/plain": [
              "array(['Paved', 'Gravel', 'No Access', 'Pavd', 'NoAccess'], dtype=object)"
            ]
          },
          "metadata": {},
          "execution_count": 54
        }
      ]
    },
    {
      "cell_type": "code",
      "source": [
        "data.STREET.replace('Pavd', 'Paved', inplace=True)\n",
        "data.STREET.replace('NoAccess ', 'No Access', inplace=True)"
      ],
      "metadata": {
        "id": "bhhymF6AtavF"
      },
      "execution_count": 55,
      "outputs": []
    },
    {
      "cell_type": "code",
      "source": [
        "data.STREET.unique()"
      ],
      "metadata": {
        "colab": {
          "base_uri": "https://localhost:8080/"
        },
        "id": "V-pSgmNntqj9",
        "outputId": "e96a1b76-97a4-4325-9ea8-3a7b63c8b79b"
      },
      "execution_count": 56,
      "outputs": [
        {
          "output_type": "execute_result",
          "data": {
            "text/plain": [
              "array(['Paved', 'Gravel', 'No Access', 'NoAccess'], dtype=object)"
            ]
          },
          "metadata": {},
          "execution_count": 56
        }
      ]
    },
    {
      "cell_type": "code",
      "source": [
        "data.STREET.replace('NoAccess', 'No Access', inplace=True)"
      ],
      "metadata": {
        "id": "Mvj-g298u0rU"
      },
      "execution_count": 57,
      "outputs": []
    },
    {
      "cell_type": "code",
      "source": [
        "data.STREET.unique()"
      ],
      "metadata": {
        "colab": {
          "base_uri": "https://localhost:8080/"
        },
        "id": "Cp_XxEKou_RC",
        "outputId": "fe79527d-e7a2-49fc-eee0-302e96321e2c"
      },
      "execution_count": 58,
      "outputs": [
        {
          "output_type": "execute_result",
          "data": {
            "text/plain": [
              "array(['Paved', 'Gravel', 'No Access'], dtype=object)"
            ]
          },
          "metadata": {},
          "execution_count": 58
        }
      ]
    },
    {
      "cell_type": "markdown",
      "source": [
        "MZZONE\n",
        "\n",
        "---\n",
        "\n",
        "\n",
        "\n",
        "---\n",
        "\n"
      ],
      "metadata": {
        "id": "wY155X00vS5M"
      }
    },
    {
      "cell_type": "code",
      "source": [
        "data.MZZONE.isnull().sum()"
      ],
      "metadata": {
        "colab": {
          "base_uri": "https://localhost:8080/"
        },
        "id": "toxw2c23vVCw",
        "outputId": "ba5036b4-ef16-48a0-e411-97eada9b70f1"
      },
      "execution_count": 59,
      "outputs": [
        {
          "output_type": "execute_result",
          "data": {
            "text/plain": [
              "0"
            ]
          },
          "metadata": {},
          "execution_count": 59
        }
      ]
    },
    {
      "cell_type": "code",
      "source": [
        "data.MZZONE.unique()"
      ],
      "metadata": {
        "colab": {
          "base_uri": "https://localhost:8080/"
        },
        "id": "C0A9upGyviLE",
        "outputId": "9c5a8162-65ca-4363-c5b1-1c53f671490d"
      },
      "execution_count": 60,
      "outputs": [
        {
          "output_type": "execute_result",
          "data": {
            "text/plain": [
              "array(['A', 'RH', 'RL', 'I', 'C', 'RM'], dtype=object)"
            ]
          },
          "metadata": {},
          "execution_count": 60
        }
      ]
    },
    {
      "cell_type": "markdown",
      "source": [
        "SALES_PRICE\n",
        "\n",
        "---\n",
        "\n",
        "\n",
        "\n",
        "---\n",
        "\n"
      ],
      "metadata": {
        "id": "uniwhZgDwRq7"
      }
    },
    {
      "cell_type": "code",
      "source": [
        "data.SALES_PRICE.isnull().sum()"
      ],
      "metadata": {
        "id": "ihB4nc0awRTB",
        "colab": {
          "base_uri": "https://localhost:8080/"
        },
        "outputId": "b5115877-a06a-4c57-aa98-94c1f477a936"
      },
      "execution_count": 61,
      "outputs": [
        {
          "output_type": "execute_result",
          "data": {
            "text/plain": [
              "0"
            ]
          },
          "metadata": {},
          "execution_count": 61
        }
      ]
    },
    {
      "cell_type": "code",
      "source": [
        "data.SALES_PRICE.describe()"
      ],
      "metadata": {
        "colab": {
          "base_uri": "https://localhost:8080/"
        },
        "id": "aCYLIAjdrs3j",
        "outputId": "3589cbc9-1552-4c3c-fe8a-695ff7dc549b"
      },
      "execution_count": 62,
      "outputs": [
        {
          "output_type": "execute_result",
          "data": {
            "text/plain": [
              "count    7.109000e+03\n",
              "mean     1.089491e+07\n",
              "std      3.768603e+06\n",
              "min      2.156875e+06\n",
              "25%      8.272100e+06\n",
              "50%      1.033505e+07\n",
              "75%      1.299390e+07\n",
              "max      2.366734e+07\n",
              "Name: SALES_PRICE, dtype: float64"
            ]
          },
          "metadata": {},
          "execution_count": 62
        }
      ]
    },
    {
      "cell_type": "markdown",
      "source": [
        "**QS Data**\n",
        "\n",
        "---\n",
        "\n",
        "\n",
        "\n",
        "---\n",
        "\n"
      ],
      "metadata": {
        "id": "5a0oIVxNyrGI"
      }
    },
    {
      "cell_type": "code",
      "source": [
        "data.QS_BATHROOM.isnull().sum()"
      ],
      "metadata": {
        "colab": {
          "base_uri": "https://localhost:8080/"
        },
        "id": "tcefKKaszhcu",
        "outputId": "179b39d8-8b3f-4ec1-e330-647c25d49af0"
      },
      "execution_count": 63,
      "outputs": [
        {
          "output_type": "execute_result",
          "data": {
            "text/plain": [
              "0"
            ]
          },
          "metadata": {},
          "execution_count": 63
        }
      ]
    },
    {
      "cell_type": "code",
      "source": [
        "data.QS_BEDROOM.isnull().sum()"
      ],
      "metadata": {
        "colab": {
          "base_uri": "https://localhost:8080/"
        },
        "id": "4IXxDKenzglB",
        "outputId": "a14eed4f-043d-437f-df2d-79508a0e815d"
      },
      "execution_count": 64,
      "outputs": [
        {
          "output_type": "execute_result",
          "data": {
            "text/plain": [
              "0"
            ]
          },
          "metadata": {},
          "execution_count": 64
        }
      ]
    },
    {
      "cell_type": "code",
      "source": [
        "data.QS_ROOMS.isnull().sum()"
      ],
      "metadata": {
        "colab": {
          "base_uri": "https://localhost:8080/"
        },
        "id": "qQbsjnNqzfgi",
        "outputId": "834fb88c-9f34-4ee6-8ceb-cfe8bc972aae"
      },
      "execution_count": 65,
      "outputs": [
        {
          "output_type": "execute_result",
          "data": {
            "text/plain": [
              "0"
            ]
          },
          "metadata": {},
          "execution_count": 65
        }
      ]
    },
    {
      "cell_type": "code",
      "source": [
        "data.QS_OVERALL.isnull().sum()"
      ],
      "metadata": {
        "colab": {
          "base_uri": "https://localhost:8080/"
        },
        "id": "grjfuzI0zedj",
        "outputId": "d08ef601-2cf8-40d3-a8bf-56e9c8642d2e"
      },
      "execution_count": 66,
      "outputs": [
        {
          "output_type": "execute_result",
          "data": {
            "text/plain": [
              "48"
            ]
          },
          "metadata": {},
          "execution_count": 66
        }
      ]
    },
    {
      "cell_type": "code",
      "source": [
        "data.QS_OVERALL.fillna(int(data['QS_OVERALL'].mean()), inplace=True)"
      ],
      "metadata": {
        "id": "zgPFWpvsypzc"
      },
      "execution_count": 67,
      "outputs": []
    },
    {
      "cell_type": "code",
      "source": [
        "data.QS_OVERALL.isnull().sum()"
      ],
      "metadata": {
        "colab": {
          "base_uri": "https://localhost:8080/"
        },
        "id": "gbg3KToOzvMH",
        "outputId": "642478d1-d51c-4538-c542-2a78186f4ea9"
      },
      "execution_count": null,
      "outputs": [
        {
          "output_type": "execute_result",
          "data": {
            "text/plain": [
              "0"
            ]
          },
          "metadata": {},
          "execution_count": 68
        }
      ]
    },
    {
      "cell_type": "markdown",
      "source": [
        "\n",
        "\n",
        "> Duplicate Drop\n",
        "\n",
        "\n",
        "---\n",
        "\n",
        "\n",
        "\n",
        "---\n",
        "\n",
        "\n",
        "\n"
      ],
      "metadata": {
        "id": "eFb7_4nmtE8o"
      }
    },
    {
      "cell_type": "code",
      "source": [
        "data.drop_duplicates(keep='first', inplace=True)"
      ],
      "metadata": {
        "id": "tQrUIlfztETB"
      },
      "execution_count": 68,
      "outputs": []
    },
    {
      "cell_type": "markdown",
      "source": [
        "**After iteration through each column and construction of new features, our data set is now clean for further processing.**"
      ],
      "metadata": {
        "id": "31Ja8WGGuwT-"
      }
    },
    {
      "cell_type": "markdown",
      "source": [
        "My final cleaned data is as follows"
      ],
      "metadata": {
        "id": "m0U8N7_Y564J"
      }
    },
    {
      "cell_type": "code",
      "source": [
        "data.head()"
      ],
      "metadata": {
        "colab": {
          "base_uri": "https://localhost:8080/",
          "height": 270
        },
        "id": "WGGz0kUw6O9K",
        "outputId": "76d633af-758f-4646-89d9-0fe014841080"
      },
      "execution_count": 69,
      "outputs": [
        {
          "output_type": "execute_result",
          "data": {
            "text/plain": [
              "         AREA  INT_SQFT  DIST_MAINROAD  N_BEDROOM  N_BATHROOM  N_ROOM  \\\n",
              "0  Karapakkam      1004            131        1.0         1.0       3   \n",
              "1  Anna Nagar      1986             26        2.0         1.0       5   \n",
              "2       Adyar       909             70        1.0         1.0       3   \n",
              "3   Velachery      1855             14        3.0         2.0       5   \n",
              "4  Karapakkam      1226             84        1.0         1.0       3   \n",
              "\n",
              "  SALE_COND PARK_FACIL   BUILDTYPE UTILITY_AVAIL  STREET MZZONE  QS_ROOMS  \\\n",
              "0  Abnormal        Yes  Commercial       All Pub   Paved      A       4.0   \n",
              "1  Abnormal         No  Commercial       All Pub  Gravel     RH       4.9   \n",
              "2  Abnormal        Yes  Commercial           ELO  Gravel     RL       4.1   \n",
              "3    Family         No       Other       NoSewr    Paved      I       4.7   \n",
              "4  Abnormal        Yes       Other       All Pub  Gravel      C       3.0   \n",
              "\n",
              "   QS_BATHROOM  QS_BEDROOM  QS_OVERALL  SALES_PRICE  AGE  \n",
              "0          3.9         4.9       4.330      7600000   44  \n",
              "1          4.2         2.5       3.765     21717770   11  \n",
              "2          3.8         2.2       3.090     13159200   20  \n",
              "3          3.9         3.6       4.010      9630290   22  \n",
              "4          2.5         4.1       3.290      7406250   30  "
            ],
            "text/html": [
              "\n",
              "  <div id=\"df-66ef3ae1-f343-4ec6-988a-e7068cef43ed\">\n",
              "    <div class=\"colab-df-container\">\n",
              "      <div>\n",
              "<style scoped>\n",
              "    .dataframe tbody tr th:only-of-type {\n",
              "        vertical-align: middle;\n",
              "    }\n",
              "\n",
              "    .dataframe tbody tr th {\n",
              "        vertical-align: top;\n",
              "    }\n",
              "\n",
              "    .dataframe thead th {\n",
              "        text-align: right;\n",
              "    }\n",
              "</style>\n",
              "<table border=\"1\" class=\"dataframe\">\n",
              "  <thead>\n",
              "    <tr style=\"text-align: right;\">\n",
              "      <th></th>\n",
              "      <th>AREA</th>\n",
              "      <th>INT_SQFT</th>\n",
              "      <th>DIST_MAINROAD</th>\n",
              "      <th>N_BEDROOM</th>\n",
              "      <th>N_BATHROOM</th>\n",
              "      <th>N_ROOM</th>\n",
              "      <th>SALE_COND</th>\n",
              "      <th>PARK_FACIL</th>\n",
              "      <th>BUILDTYPE</th>\n",
              "      <th>UTILITY_AVAIL</th>\n",
              "      <th>STREET</th>\n",
              "      <th>MZZONE</th>\n",
              "      <th>QS_ROOMS</th>\n",
              "      <th>QS_BATHROOM</th>\n",
              "      <th>QS_BEDROOM</th>\n",
              "      <th>QS_OVERALL</th>\n",
              "      <th>SALES_PRICE</th>\n",
              "      <th>AGE</th>\n",
              "    </tr>\n",
              "  </thead>\n",
              "  <tbody>\n",
              "    <tr>\n",
              "      <th>0</th>\n",
              "      <td>Karapakkam</td>\n",
              "      <td>1004</td>\n",
              "      <td>131</td>\n",
              "      <td>1.0</td>\n",
              "      <td>1.0</td>\n",
              "      <td>3</td>\n",
              "      <td>Abnormal</td>\n",
              "      <td>Yes</td>\n",
              "      <td>Commercial</td>\n",
              "      <td>All Pub</td>\n",
              "      <td>Paved</td>\n",
              "      <td>A</td>\n",
              "      <td>4.0</td>\n",
              "      <td>3.9</td>\n",
              "      <td>4.9</td>\n",
              "      <td>4.330</td>\n",
              "      <td>7600000</td>\n",
              "      <td>44</td>\n",
              "    </tr>\n",
              "    <tr>\n",
              "      <th>1</th>\n",
              "      <td>Anna Nagar</td>\n",
              "      <td>1986</td>\n",
              "      <td>26</td>\n",
              "      <td>2.0</td>\n",
              "      <td>1.0</td>\n",
              "      <td>5</td>\n",
              "      <td>Abnormal</td>\n",
              "      <td>No</td>\n",
              "      <td>Commercial</td>\n",
              "      <td>All Pub</td>\n",
              "      <td>Gravel</td>\n",
              "      <td>RH</td>\n",
              "      <td>4.9</td>\n",
              "      <td>4.2</td>\n",
              "      <td>2.5</td>\n",
              "      <td>3.765</td>\n",
              "      <td>21717770</td>\n",
              "      <td>11</td>\n",
              "    </tr>\n",
              "    <tr>\n",
              "      <th>2</th>\n",
              "      <td>Adyar</td>\n",
              "      <td>909</td>\n",
              "      <td>70</td>\n",
              "      <td>1.0</td>\n",
              "      <td>1.0</td>\n",
              "      <td>3</td>\n",
              "      <td>Abnormal</td>\n",
              "      <td>Yes</td>\n",
              "      <td>Commercial</td>\n",
              "      <td>ELO</td>\n",
              "      <td>Gravel</td>\n",
              "      <td>RL</td>\n",
              "      <td>4.1</td>\n",
              "      <td>3.8</td>\n",
              "      <td>2.2</td>\n",
              "      <td>3.090</td>\n",
              "      <td>13159200</td>\n",
              "      <td>20</td>\n",
              "    </tr>\n",
              "    <tr>\n",
              "      <th>3</th>\n",
              "      <td>Velachery</td>\n",
              "      <td>1855</td>\n",
              "      <td>14</td>\n",
              "      <td>3.0</td>\n",
              "      <td>2.0</td>\n",
              "      <td>5</td>\n",
              "      <td>Family</td>\n",
              "      <td>No</td>\n",
              "      <td>Other</td>\n",
              "      <td>NoSewr</td>\n",
              "      <td>Paved</td>\n",
              "      <td>I</td>\n",
              "      <td>4.7</td>\n",
              "      <td>3.9</td>\n",
              "      <td>3.6</td>\n",
              "      <td>4.010</td>\n",
              "      <td>9630290</td>\n",
              "      <td>22</td>\n",
              "    </tr>\n",
              "    <tr>\n",
              "      <th>4</th>\n",
              "      <td>Karapakkam</td>\n",
              "      <td>1226</td>\n",
              "      <td>84</td>\n",
              "      <td>1.0</td>\n",
              "      <td>1.0</td>\n",
              "      <td>3</td>\n",
              "      <td>Abnormal</td>\n",
              "      <td>Yes</td>\n",
              "      <td>Other</td>\n",
              "      <td>All Pub</td>\n",
              "      <td>Gravel</td>\n",
              "      <td>C</td>\n",
              "      <td>3.0</td>\n",
              "      <td>2.5</td>\n",
              "      <td>4.1</td>\n",
              "      <td>3.290</td>\n",
              "      <td>7406250</td>\n",
              "      <td>30</td>\n",
              "    </tr>\n",
              "  </tbody>\n",
              "</table>\n",
              "</div>\n",
              "      <button class=\"colab-df-convert\" onclick=\"convertToInteractive('df-66ef3ae1-f343-4ec6-988a-e7068cef43ed')\"\n",
              "              title=\"Convert this dataframe to an interactive table.\"\n",
              "              style=\"display:none;\">\n",
              "        \n",
              "  <svg xmlns=\"http://www.w3.org/2000/svg\" height=\"24px\"viewBox=\"0 0 24 24\"\n",
              "       width=\"24px\">\n",
              "    <path d=\"M0 0h24v24H0V0z\" fill=\"none\"/>\n",
              "    <path d=\"M18.56 5.44l.94 2.06.94-2.06 2.06-.94-2.06-.94-.94-2.06-.94 2.06-2.06.94zm-11 1L8.5 8.5l.94-2.06 2.06-.94-2.06-.94L8.5 2.5l-.94 2.06-2.06.94zm10 10l.94 2.06.94-2.06 2.06-.94-2.06-.94-.94-2.06-.94 2.06-2.06.94z\"/><path d=\"M17.41 7.96l-1.37-1.37c-.4-.4-.92-.59-1.43-.59-.52 0-1.04.2-1.43.59L10.3 9.45l-7.72 7.72c-.78.78-.78 2.05 0 2.83L4 21.41c.39.39.9.59 1.41.59.51 0 1.02-.2 1.41-.59l7.78-7.78 2.81-2.81c.8-.78.8-2.07 0-2.86zM5.41 20L4 18.59l7.72-7.72 1.47 1.35L5.41 20z\"/>\n",
              "  </svg>\n",
              "      </button>\n",
              "      \n",
              "  <style>\n",
              "    .colab-df-container {\n",
              "      display:flex;\n",
              "      flex-wrap:wrap;\n",
              "      gap: 12px;\n",
              "    }\n",
              "\n",
              "    .colab-df-convert {\n",
              "      background-color: #E8F0FE;\n",
              "      border: none;\n",
              "      border-radius: 50%;\n",
              "      cursor: pointer;\n",
              "      display: none;\n",
              "      fill: #1967D2;\n",
              "      height: 32px;\n",
              "      padding: 0 0 0 0;\n",
              "      width: 32px;\n",
              "    }\n",
              "\n",
              "    .colab-df-convert:hover {\n",
              "      background-color: #E2EBFA;\n",
              "      box-shadow: 0px 1px 2px rgba(60, 64, 67, 0.3), 0px 1px 3px 1px rgba(60, 64, 67, 0.15);\n",
              "      fill: #174EA6;\n",
              "    }\n",
              "\n",
              "    [theme=dark] .colab-df-convert {\n",
              "      background-color: #3B4455;\n",
              "      fill: #D2E3FC;\n",
              "    }\n",
              "\n",
              "    [theme=dark] .colab-df-convert:hover {\n",
              "      background-color: #434B5C;\n",
              "      box-shadow: 0px 1px 3px 1px rgba(0, 0, 0, 0.15);\n",
              "      filter: drop-shadow(0px 1px 2px rgba(0, 0, 0, 0.3));\n",
              "      fill: #FFFFFF;\n",
              "    }\n",
              "  </style>\n",
              "\n",
              "      <script>\n",
              "        const buttonEl =\n",
              "          document.querySelector('#df-66ef3ae1-f343-4ec6-988a-e7068cef43ed button.colab-df-convert');\n",
              "        buttonEl.style.display =\n",
              "          google.colab.kernel.accessAllowed ? 'block' : 'none';\n",
              "\n",
              "        async function convertToInteractive(key) {\n",
              "          const element = document.querySelector('#df-66ef3ae1-f343-4ec6-988a-e7068cef43ed');\n",
              "          const dataTable =\n",
              "            await google.colab.kernel.invokeFunction('convertToInteractive',\n",
              "                                                     [key], {});\n",
              "          if (!dataTable) return;\n",
              "\n",
              "          const docLinkHtml = 'Like what you see? Visit the ' +\n",
              "            '<a target=\"_blank\" href=https://colab.research.google.com/notebooks/data_table.ipynb>data table notebook</a>'\n",
              "            + ' to learn more about interactive tables.';\n",
              "          element.innerHTML = '';\n",
              "          dataTable['output_type'] = 'display_data';\n",
              "          await google.colab.output.renderOutput(dataTable, element);\n",
              "          const docLink = document.createElement('div');\n",
              "          docLink.innerHTML = docLinkHtml;\n",
              "          element.appendChild(docLink);\n",
              "        }\n",
              "      </script>\n",
              "    </div>\n",
              "  </div>\n",
              "  "
            ]
          },
          "metadata": {},
          "execution_count": 69
        }
      ]
    },
    {
      "cell_type": "code",
      "source": [
        "data.info()"
      ],
      "metadata": {
        "colab": {
          "base_uri": "https://localhost:8080/"
        },
        "id": "UzsRcO356Bn_",
        "outputId": "8bb2ff76-b46f-4629-d50f-985cfab884fa"
      },
      "execution_count": 70,
      "outputs": [
        {
          "output_type": "stream",
          "name": "stdout",
          "text": [
            "<class 'pandas.core.frame.DataFrame'>\n",
            "Int64Index: 7109 entries, 0 to 7108\n",
            "Data columns (total 18 columns):\n",
            " #   Column         Non-Null Count  Dtype  \n",
            "---  ------         --------------  -----  \n",
            " 0   AREA           7109 non-null   object \n",
            " 1   INT_SQFT       7109 non-null   int64  \n",
            " 2   DIST_MAINROAD  7109 non-null   int64  \n",
            " 3   N_BEDROOM      7109 non-null   float64\n",
            " 4   N_BATHROOM     7109 non-null   float64\n",
            " 5   N_ROOM         7109 non-null   int64  \n",
            " 6   SALE_COND      7109 non-null   object \n",
            " 7   PARK_FACIL     7109 non-null   object \n",
            " 8   BUILDTYPE      7109 non-null   object \n",
            " 9   UTILITY_AVAIL  7109 non-null   object \n",
            " 10  STREET         7109 non-null   object \n",
            " 11  MZZONE         7109 non-null   object \n",
            " 12  QS_ROOMS       7109 non-null   float64\n",
            " 13  QS_BATHROOM    7109 non-null   float64\n",
            " 14  QS_BEDROOM     7109 non-null   float64\n",
            " 15  QS_OVERALL     7109 non-null   float64\n",
            " 16  SALES_PRICE    7109 non-null   int64  \n",
            " 17  AGE            7109 non-null   int64  \n",
            "dtypes: float64(6), int64(5), object(7)\n",
            "memory usage: 1.0+ MB\n"
          ]
        }
      ]
    },
    {
      "cell_type": "code",
      "source": [
        "data.shape"
      ],
      "metadata": {
        "colab": {
          "base_uri": "https://localhost:8080/"
        },
        "id": "_RGEsgAh6pVU",
        "outputId": "a247e966-dd3f-464b-957c-941af6d4370d"
      },
      "execution_count": 71,
      "outputs": [
        {
          "output_type": "execute_result",
          "data": {
            "text/plain": [
              "(7109, 18)"
            ]
          },
          "metadata": {},
          "execution_count": 71
        }
      ]
    },
    {
      "cell_type": "markdown",
      "source": [
        "# ***DATA VISALITION***\n",
        "\n",
        "---\n",
        "\n",
        "\n",
        "\n",
        "---\n",
        "\n"
      ],
      "metadata": {
        "id": "0BaosY3T4PR1"
      }
    },
    {
      "cell_type": "markdown",
      "source": [
        "**Visualization is done to perform enhanced data analysis through which we can understand the relevance between the features and the target variables, which helps us to decide if a feature is important to construct the model**. "
      ],
      "metadata": {
        "id": "tp06GTI9t_Ho"
      }
    },
    {
      "cell_type": "markdown",
      "source": [
        "Firstly, I am grouping the numerical and categorical data separately.\n",
        "\n",
        "Then, using sns.regplot, I am plotting the relation between the numerical features with the sales price.\n",
        "\n",
        "And using sns.barplt, I am plotting the relation between the categorical features with sales price.\n",
        "\n",
        "Depending upon the nature of the categorical data encoding is performed and the irrelavent data to the target have been drouped.\n"
      ],
      "metadata": {
        "id": "Utj5w8CB5yNx"
      }
    },
    {
      "cell_type": "markdown",
      "source": [
        "**Numarical and Catagorical Data Split**\n",
        "\n",
        "\n",
        "\n",
        "---"
      ],
      "metadata": {
        "id": "F84FJ6ZUAYMC"
      }
    },
    {
      "cell_type": "code",
      "source": [
        "numerical_features=[feature for feature in data.columns if data[feature].dtypes != 'O']\n",
        "numerical_features"
      ],
      "metadata": {
        "colab": {
          "base_uri": "https://localhost:8080/"
        },
        "id": "q8DcYTyYAgB4",
        "outputId": "84d169bf-dbdc-435a-a843-c96e7b56fed3"
      },
      "execution_count": 72,
      "outputs": [
        {
          "output_type": "execute_result",
          "data": {
            "text/plain": [
              "['INT_SQFT',\n",
              " 'DIST_MAINROAD',\n",
              " 'N_BEDROOM',\n",
              " 'N_BATHROOM',\n",
              " 'N_ROOM',\n",
              " 'QS_ROOMS',\n",
              " 'QS_BATHROOM',\n",
              " 'QS_BEDROOM',\n",
              " 'QS_OVERALL',\n",
              " 'SALES_PRICE',\n",
              " 'AGE']"
            ]
          },
          "metadata": {},
          "execution_count": 72
        }
      ]
    },
    {
      "cell_type": "code",
      "source": [
        "catagorical_features=[feature for feature in data.columns if data[feature].dtypes == 'O']\n",
        "catagorical_features"
      ],
      "metadata": {
        "colab": {
          "base_uri": "https://localhost:8080/"
        },
        "id": "8xBoy2lIAq55",
        "outputId": "09fd6476-270e-4b26-9ea4-4b04d58a4147"
      },
      "execution_count": 73,
      "outputs": [
        {
          "output_type": "execute_result",
          "data": {
            "text/plain": [
              "['AREA',\n",
              " 'SALE_COND',\n",
              " 'PARK_FACIL',\n",
              " 'BUILDTYPE',\n",
              " 'UTILITY_AVAIL',\n",
              " 'STREET',\n",
              " 'MZZONE']"
            ]
          },
          "metadata": {},
          "execution_count": 73
        }
      ]
    },
    {
      "cell_type": "markdown",
      "source": [
        "**EDA Of Numarical Features**\n",
        "\n",
        "---\n",
        "\n"
      ],
      "metadata": {
        "id": "JQKT1UbcBDYv"
      }
    },
    {
      "cell_type": "code",
      "source": [
        "target = data.SALES_PRICE"
      ],
      "metadata": {
        "id": "_QRgJxnrBCzs"
      },
      "execution_count": 74,
      "outputs": []
    },
    {
      "cell_type": "code",
      "source": [
        "plt.figure(figsize=(20,20))\n",
        "plt.subplot(321)\n",
        "sns.regplot(x=data.INT_SQFT,y=target,scatter_kws={\"color\": \"green\"}, line_kws={\"color\": \"red\"})\n",
        "plt.title('INT_SQFT vs SALES_PRICE')\n",
        "plt.subplot(322)\n",
        "sns.regplot(x=data.DIST_MAINROAD,y=target,scatter_kws={\"color\": \"blue\"}, line_kws={\"color\": \"red\"})\n",
        "plt.title('DIST_MAINROAD vs SALES_PRICE')\n",
        "plt.subplot(323)\n",
        "sns.regplot(x=data.N_BEDROOM,y=target,scatter_kws={\"color\": \"green\"}, line_kws={\"color\": \"red\"})\n",
        "plt.title('N_BEDROOM vs SALES_PRICE')\n",
        "plt.subplot(324)\n",
        "sns.regplot(x=data.N_BATHROOM,y=target,scatter_kws={\"color\": \"green\"}, line_kws={\"color\": \"red\"})\n",
        "plt.title('N_BATHROOM vs SALES_PRICE')\n",
        "plt.subplot(325)\n",
        "sns.regplot(x=data.N_ROOM,y=target,scatter_kws={\"color\": \"green\"}, line_kws={\"color\": \"red\"})\n",
        "plt.title('N_ROOM vs SALES_PRICE')"
      ],
      "metadata": {
        "colab": {
          "base_uri": "https://localhost:8080/",
          "height": 1000
        },
        "id": "YWAnE1JyD8pZ",
        "outputId": "9e701393-ae22-477a-f535-f89bfcebd0b0"
      },
      "execution_count": 75,
      "outputs": [
        {
          "output_type": "execute_result",
          "data": {
            "text/plain": [
              "Text(0.5, 1.0, 'N_ROOM vs SALES_PRICE')"
            ]
          },
          "metadata": {},
          "execution_count": 75
        },
        {
          "output_type": "display_data",
          "data": {
            "text/plain": [
              "<Figure size 1440x1440 with 5 Axes>"
            ],
            "image/png": "[encoded data removed]"
          },
          "metadata": {
            "needs_background": "light"
          }
        }
      ]
    },
    {
      "cell_type": "code",
      "source": [
        "plt.figure(figsize=(20,20))\n",
        "plt.subplot(321)\n",
        "sns.regplot(x=data.QS_ROOMS,y=target,scatter_kws={\"color\": \"green\"}, line_kws={\"color\": \"red\"})\n",
        "plt.title('QS_ROOMS vs SALES_PRICE')\n",
        "plt.subplot(322)\n",
        "sns.regplot(x=data.QS_BATHROOM,y=target,scatter_kws={\"color\": \"blue\"}, line_kws={\"color\": \"red\"})\n",
        "plt.title('QS_BATHROOM vs SALES_PRICE')\n",
        "plt.subplot(323)\n",
        "sns.regplot(x=data.QS_BEDROOM,y=target,scatter_kws={\"color\": \"blue\"}, line_kws={\"color\": \"red\"})\n",
        "plt.title('QS_BEDROOM vs SALES_PRICE')\n",
        "plt.subplot(324)\n",
        "sns.regplot(x=data.QS_OVERALL,y=target,scatter_kws={\"color\": \"blue\"}, line_kws={\"color\": \"red\"})\n",
        "plt.title('QS_OVERALL vs SALES_PRICE')\n",
        "plt.subplot(325)\n",
        "sns.regplot(x=data.AGE,y=target,scatter_kws={\"color\": \"green\"}, line_kws={\"color\": \"red\"})\n",
        "plt.title('AGE vs SALES_PRICE')"
      ],
      "metadata": {
        "colab": {
          "base_uri": "https://localhost:8080/",
          "height": 1000
        },
        "id": "FezAaSUA9jp6",
        "outputId": "46c70f6a-e13b-4b6c-e3d3-b87974c6b0af"
      },
      "execution_count": 76,
      "outputs": [
        {
          "output_type": "execute_result",
          "data": {
            "text/plain": [
              "Text(0.5, 1.0, 'AGE vs SALES_PRICE')"
            ]
          },
          "metadata": {},
          "execution_count": 76
        },
        {
          "output_type": "display_data",
          "data": {
            "text/plain": [
              "<Figure size 1440x1440 with 5 Axes>"
            ],
            "image/png": "[encoded data removed]"
          },
          "metadata": {
            "needs_background": "light"
          }
        }
      ]
    },
    {
      "cell_type": "markdown",
      "source": [
        "From the plots we can infer the following:\n",
        "\n",
        "1) INT_SQFT: As the sqfeet area increases the price increases thus showing a linear relatonship.\n",
        "\n",
        "2) N_BEDROOM: As the number of bedrooms increse there is an increse in price thus showing a liner relationship.\n",
        "\n",
        "3) N_ROOM: As the number of rooms increse there is an increse in price thus showing a liner relationship.\n",
        "\n",
        "4)Age: As the age of the house increses there is drop in the price hence showing an inverce relationship \n",
        "\n",
        "5)Data of DIST_MAINROAD,N_BATHROOM,QS_OVERALL,QS_ROOMS,QS_BATHROOM and QS_BEDROOM have no effect on the Target value Sales_Price.\n",
        "\n",
        "Hence those feilds can be droped."
      ],
      "metadata": {
        "id": "BEm6wDdcGwsX"
      }
    },
    {
      "cell_type": "markdown",
      "source": [
        "**EDA Of Categorical Features**\n",
        "\n",
        "---\n",
        "\n"
      ],
      "metadata": {
        "id": "4BvVLhbqKiko"
      }
    },
    {
      "cell_type": "code",
      "source": [
        "sns.set_theme(style='darkgrid',palette='pastel')\n",
        "plt.figure(figsize=(30,15))\n",
        "plt.subplot(241)\n",
        "sns.barplot(x=data.AREA,y=data.SALES_PRICE,order=data.groupby('AREA')['SALES_PRICE'].mean().reset_index().sort_values('SALES_PRICE')['AREA'])\n",
        "plt.title('AREA vs SALES_PRICE')\n",
        "plt.subplot(242)\n",
        "sns.barplot(x=data.SALE_COND,y=data.SALES_PRICE,order=data.groupby('SALE_COND')['SALES_PRICE'].mean().reset_index().sort_values('SALES_PRICE')['SALE_COND'])\n",
        "plt.title('SALE_COND vs SALES_PRICE')\n",
        "plt.subplot(243)\n",
        "sns.barplot(x=data.PARK_FACIL,y=data.SALES_PRICE,order=data.groupby('PARK_FACIL')['SALES_PRICE'].mean().reset_index().sort_values('SALES_PRICE')['PARK_FACIL'])\n",
        "plt.title('PARK_FACIL vs SALES_PRICE')\n",
        "plt.subplot(244)\n",
        "sns.barplot(x=data.BUILDTYPE,y=data.SALES_PRICE,order=data.groupby('BUILDTYPE')['SALES_PRICE'].mean().reset_index().sort_values('SALES_PRICE')['BUILDTYPE'])\n",
        "plt.title('BUILDTYPE vs SALES_PRICE')\n",
        "plt.subplot(245)\n",
        "sns.barplot(x=data.UTILITY_AVAIL,y=data.SALES_PRICE,order=data.groupby('UTILITY_AVAIL')['SALES_PRICE'].mean().reset_index().sort_values('SALES_PRICE')['UTILITY_AVAIL'])\n",
        "plt.title('UTILITY_AVAIL vs SALES_PRICE')\n",
        "plt.subplot(246)\n",
        "sns.barplot(x=data.STREET,y=data.SALES_PRICE,order=data.groupby('STREET')['SALES_PRICE'].mean().reset_index().sort_values('SALES_PRICE')['STREET'])\n",
        "plt.title('STREET vs SALES_PRICE')\n",
        "plt.subplot(247)\n",
        "sns.barplot(x=data.MZZONE,y=data.SALES_PRICE,order=data.groupby('MZZONE')['SALES_PRICE'].mean().reset_index().sort_values('SALES_PRICE')['MZZONE'])\n",
        "plt.title('MZZONE vs SALES_PRICE')"
      ],
      "metadata": {
        "colab": {
          "base_uri": "https://localhost:8080/",
          "height": 668
        },
        "id": "H5GAr-ADI8oo",
        "outputId": "9a35aa9a-9bc5-4830-a958-e8bbafae4484"
      },
      "execution_count": 77,
      "outputs": [
        {
          "output_type": "execute_result",
          "data": {
            "text/plain": [
              "Text(0.5, 1.0, 'MZZONE vs SALES_PRICE')"
            ]
          },
          "metadata": {},
          "execution_count": 77
        },
        {
          "output_type": "display_data",
          "data": {
            "text/plain": [
              "<Figure size 2160x1080 with 7 Axes>"
            ],
            "image/png": "[encoded data removed]"
          },
          "metadata": {}
        }
      ]
    },
    {
      "cell_type": "markdown",
      "source": [
        "From the above plots we infer the following:\n",
        "\n",
        "1) AREA: shows an linear relationship and hence lable encoding is done"
      ],
      "metadata": {
        "id": "QEyT4SRqYUeN"
      }
    },
    {
      "cell_type": "code",
      "source": [
        "data.AREA= data.AREA.map({'Karapakkam':1,'Adyar': 2,'Chrompet' :3,'Velachery' :4,'KK Nagar':5,'Anna Nagar': 6, 'T Nagar':7})"
      ],
      "metadata": {
        "id": "dUkWb_1DLOuK"
      },
      "execution_count": 78,
      "outputs": []
    },
    {
      "cell_type": "markdown",
      "source": [
        " 2)SALE_COND: shows an linear relationship and hence lable encoding is done"
      ],
      "metadata": {
        "id": "6SSiO2iTYWT-"
      }
    },
    {
      "cell_type": "code",
      "source": [
        "data.SALE_COND= data.SALE_COND.map({'Partial':1,'Family': 2,'Abnormal' :3,'Normal Sale' :4,'Adj Land':5})"
      ],
      "metadata": {
        "id": "Py12x5hjVYKH"
      },
      "execution_count": 79,
      "outputs": []
    },
    {
      "cell_type": "markdown",
      "source": [
        " 3)PARK_FACIL: shows an linear relationship and hence lable encoding is done"
      ],
      "metadata": {
        "id": "b0ArjClfYXgD"
      }
    },
    {
      "cell_type": "code",
      "source": [
        "data.PARK_FACIL= data.PARK_FACIL.map({'No':1,'Yes': 2})"
      ],
      "metadata": {
        "id": "kdaxkvNPVY7G"
      },
      "execution_count": 80,
      "outputs": []
    },
    {
      "cell_type": "markdown",
      "source": [
        " 4)PARK_FACIL: shows an Non linear relationship and hence One-Hot  encoding is done"
      ],
      "metadata": {
        "id": "xrSmy5snYZPQ"
      }
    },
    {
      "cell_type": "code",
      "source": [
        "one_hot = pd.get_dummies(data.BUILDTYPE).astype(int)\n",
        "data = data.join(one_hot)"
      ],
      "metadata": {
        "id": "HT4jwfHLaGqz"
      },
      "execution_count": 81,
      "outputs": []
    },
    {
      "cell_type": "markdown",
      "source": [
        " 5)UTILITY_AVAIL: shows an linear relationship and hence lable encoding is done"
      ],
      "metadata": {
        "id": "YXQCVG_gbyW_"
      }
    },
    {
      "cell_type": "code",
      "source": [
        "data.UTILITY_AVAIL= data.UTILITY_AVAIL.map({'ELO':1,'NoSeWa': 2,'NoSewr ':3,'All Pub' :4})"
      ],
      "metadata": {
        "id": "sR3o1dfqXkVh"
      },
      "execution_count": 82,
      "outputs": []
    },
    {
      "cell_type": "markdown",
      "source": [
        " 6)STREET: shows an linear relationship and hence lable encoding is done"
      ],
      "metadata": {
        "id": "lbjgycFdb9IA"
      }
    },
    {
      "cell_type": "code",
      "source": [
        "data.STREET= data.STREET.map({'No Access':1,'Paved': 2,'Gravel' :3})"
      ],
      "metadata": {
        "id": "p2vYGBLRX-Lq"
      },
      "execution_count": 83,
      "outputs": []
    },
    {
      "cell_type": "markdown",
      "source": [
        " 7)MZZONE: shows an linear relationship and hence lable encoding is done "
      ],
      "metadata": {
        "id": "UCR7wvRqcIVH"
      }
    },
    {
      "cell_type": "code",
      "source": [
        "data.MZZONE= data.MZZONE.map({'A':1,'C': 2,'I' :3,'RH':5,'RL': 6, 'RM':7})"
      ],
      "metadata": {
        "id": "e1-gdp1hYIBu"
      },
      "execution_count": 84,
      "outputs": []
    },
    {
      "cell_type": "markdown",
      "source": [
        "\n",
        "\n",
        "> Droping the irrelavent features.\n",
        "\n",
        "\n",
        "---\n",
        "\n",
        "\n",
        "\n"
      ],
      "metadata": {
        "id": "EVd2Tm3__7bY"
      }
    },
    {
      "cell_type": "code",
      "source": [
        "data = data.drop(columns = ['BUILDTYPE','QS_ROOMS', 'QS_BATHROOM', 'QS_BEDROOM','QS_OVERALL','DIST_MAINROAD','N_BATHROOM'])"
      ],
      "metadata": {
        "id": "_kmeDOkPcXlD"
      },
      "execution_count": 85,
      "outputs": []
    },
    {
      "cell_type": "markdown",
      "source": [
        "**Thus the final data filtered for modeling is as follows:**\n",
        "\n",
        "\n",
        "---\n",
        "\n"
      ],
      "metadata": {
        "id": "l2gmRovKAe_5"
      }
    },
    {
      "cell_type": "code",
      "source": [
        "data.head()"
      ],
      "metadata": {
        "colab": {
          "base_uri": "https://localhost:8080/",
          "height": 206
        },
        "id": "Cbl_u0zHB0X-",
        "outputId": "5a34578e-c194-4586-cc87-c0fa0882e107"
      },
      "execution_count": 86,
      "outputs": [
        {
          "output_type": "execute_result",
          "data": {
            "text/plain": [
              "   AREA  INT_SQFT  N_BEDROOM  N_ROOM  SALE_COND  PARK_FACIL  UTILITY_AVAIL  \\\n",
              "0     1      1004        1.0       3          3           2              4   \n",
              "1     6      1986        2.0       5          3           1              4   \n",
              "2     2       909        1.0       3          3           2              1   \n",
              "3     4      1855        3.0       5          2           1              3   \n",
              "4     1      1226        1.0       3          3           2              4   \n",
              "\n",
              "   STREET  MZZONE  SALES_PRICE  AGE  Commercial  House  Other  \n",
              "0       2       1      7600000   44           1      0      0  \n",
              "1       3       5     21717770   11           1      0      0  \n",
              "2       3       6     13159200   20           1      0      0  \n",
              "3       2       3      9630290   22           0      0      1  \n",
              "4       3       2      7406250   30           0      0      1  "
            ],
            "text/html": [
              "\n",
              "  <div id=\"df-c90ba993-3eca-4fb4-b0db-f86d81c6dfac\">\n",
              "    <div class=\"colab-df-container\">\n",
              "      <div>\n",
              "<style scoped>\n",
              "    .dataframe tbody tr th:only-of-type {\n",
              "        vertical-align: middle;\n",
              "    }\n",
              "\n",
              "    .dataframe tbody tr th {\n",
              "        vertical-align: top;\n",
              "    }\n",
              "\n",
              "    .dataframe thead th {\n",
              "        text-align: right;\n",
              "    }\n",
              "</style>\n",
              "<table border=\"1\" class=\"dataframe\">\n",
              "  <thead>\n",
              "    <tr style=\"text-align: right;\">\n",
              "      <th></th>\n",
              "      <th>AREA</th>\n",
              "      <th>INT_SQFT</th>\n",
              "      <th>N_BEDROOM</th>\n",
              "      <th>N_ROOM</th>\n",
              "      <th>SALE_COND</th>\n",
              "      <th>PARK_FACIL</th>\n",
              "      <th>UTILITY_AVAIL</th>\n",
              "      <th>STREET</th>\n",
              "      <th>MZZONE</th>\n",
              "      <th>SALES_PRICE</th>\n",
              "      <th>AGE</th>\n",
              "      <th>Commercial</th>\n",
              "      <th>House</th>\n",
              "      <th>Other</th>\n",
              "    </tr>\n",
              "  </thead>\n",
              "  <tbody>\n",
              "    <tr>\n",
              "      <th>0</th>\n",
              "      <td>1</td>\n",
              "      <td>1004</td>\n",
              "      <td>1.0</td>\n",
              "      <td>3</td>\n",
              "      <td>3</td>\n",
              "      <td>2</td>\n",
              "      <td>4</td>\n",
              "      <td>2</td>\n",
              "      <td>1</td>\n",
              "      <td>7600000</td>\n",
              "      <td>44</td>\n",
              "      <td>1</td>\n",
              "      <td>0</td>\n",
              "      <td>0</td>\n",
              "    </tr>\n",
              "    <tr>\n",
              "      <th>1</th>\n",
              "      <td>6</td>\n",
              "      <td>1986</td>\n",
              "      <td>2.0</td>\n",
              "      <td>5</td>\n",
              "      <td>3</td>\n",
              "      <td>1</td>\n",
              "      <td>4</td>\n",
              "      <td>3</td>\n",
              "      <td>5</td>\n",
              "      <td>21717770</td>\n",
              "      <td>11</td>\n",
              "      <td>1</td>\n",
              "      <td>0</td>\n",
              "      <td>0</td>\n",
              "    </tr>\n",
              "    <tr>\n",
              "      <th>2</th>\n",
              "      <td>2</td>\n",
              "      <td>909</td>\n",
              "      <td>1.0</td>\n",
              "      <td>3</td>\n",
              "      <td>3</td>\n",
              "      <td>2</td>\n",
              "      <td>1</td>\n",
              "      <td>3</td>\n",
              "      <td>6</td>\n",
              "      <td>13159200</td>\n",
              "      <td>20</td>\n",
              "      <td>1</td>\n",
              "      <td>0</td>\n",
              "      <td>0</td>\n",
              "    </tr>\n",
              "    <tr>\n",
              "      <th>3</th>\n",
              "      <td>4</td>\n",
              "      <td>1855</td>\n",
              "      <td>3.0</td>\n",
              "      <td>5</td>\n",
              "      <td>2</td>\n",
              "      <td>1</td>\n",
              "      <td>3</td>\n",
              "      <td>2</td>\n",
              "      <td>3</td>\n",
              "      <td>9630290</td>\n",
              "      <td>22</td>\n",
              "      <td>0</td>\n",
              "      <td>0</td>\n",
              "      <td>1</td>\n",
              "    </tr>\n",
              "    <tr>\n",
              "      <th>4</th>\n",
              "      <td>1</td>\n",
              "      <td>1226</td>\n",
              "      <td>1.0</td>\n",
              "      <td>3</td>\n",
              "      <td>3</td>\n",
              "      <td>2</td>\n",
              "      <td>4</td>\n",
              "      <td>3</td>\n",
              "      <td>2</td>\n",
              "      <td>7406250</td>\n",
              "      <td>30</td>\n",
              "      <td>0</td>\n",
              "      <td>0</td>\n",
              "      <td>1</td>\n",
              "    </tr>\n",
              "  </tbody>\n",
              "</table>\n",
              "</div>\n",
              "      <button class=\"colab-df-convert\" onclick=\"convertToInteractive('df-c90ba993-3eca-4fb4-b0db-f86d81c6dfac')\"\n",
              "              title=\"Convert this dataframe to an interactive table.\"\n",
              "              style=\"display:none;\">\n",
              "        \n",
              "  <svg xmlns=\"http://www.w3.org/2000/svg\" height=\"24px\"viewBox=\"0 0 24 24\"\n",
              "       width=\"24px\">\n",
              "    <path d=\"M0 0h24v24H0V0z\" fill=\"none\"/>\n",
              "    <path d=\"M18.56 5.44l.94 2.06.94-2.06 2.06-.94-2.06-.94-.94-2.06-.94 2.06-2.06.94zm-11 1L8.5 8.5l.94-2.06 2.06-.94-2.06-.94L8.5 2.5l-.94 2.06-2.06.94zm10 10l.94 2.06.94-2.06 2.06-.94-2.06-.94-.94-2.06-.94 2.06-2.06.94z\"/><path d=\"M17.41 7.96l-1.37-1.37c-.4-.4-.92-.59-1.43-.59-.52 0-1.04.2-1.43.59L10.3 9.45l-7.72 7.72c-.78.78-.78 2.05 0 2.83L4 21.41c.39.39.9.59 1.41.59.51 0 1.02-.2 1.41-.59l7.78-7.78 2.81-2.81c.8-.78.8-2.07 0-2.86zM5.41 20L4 18.59l7.72-7.72 1.47 1.35L5.41 20z\"/>\n",
              "  </svg>\n",
              "      </button>\n",
              "      \n",
              "  <style>\n",
              "    .colab-df-container {\n",
              "      display:flex;\n",
              "      flex-wrap:wrap;\n",
              "      gap: 12px;\n",
              "    }\n",
              "\n",
              "    .colab-df-convert {\n",
              "      background-color: #E8F0FE;\n",
              "      border: none;\n",
              "      border-radius: 50%;\n",
              "      cursor: pointer;\n",
              "      display: none;\n",
              "      fill: #1967D2;\n",
              "      height: 32px;\n",
              "      padding: 0 0 0 0;\n",
              "      width: 32px;\n",
              "    }\n",
              "\n",
              "    .colab-df-convert:hover {\n",
              "      background-color: #E2EBFA;\n",
              "      box-shadow: 0px 1px 2px rgba(60, 64, 67, 0.3), 0px 1px 3px 1px rgba(60, 64, 67, 0.15);\n",
              "      fill: #174EA6;\n",
              "    }\n",
              "\n",
              "    [theme=dark] .colab-df-convert {\n",
              "      background-color: #3B4455;\n",
              "      fill: #D2E3FC;\n",
              "    }\n",
              "\n",
              "    [theme=dark] .colab-df-convert:hover {\n",
              "      background-color: #434B5C;\n",
              "      box-shadow: 0px 1px 3px 1px rgba(0, 0, 0, 0.15);\n",
              "      filter: drop-shadow(0px 1px 2px rgba(0, 0, 0, 0.3));\n",
              "      fill: #FFFFFF;\n",
              "    }\n",
              "  </style>\n",
              "\n",
              "      <script>\n",
              "        const buttonEl =\n",
              "          document.querySelector('#df-c90ba993-3eca-4fb4-b0db-f86d81c6dfac button.colab-df-convert');\n",
              "        buttonEl.style.display =\n",
              "          google.colab.kernel.accessAllowed ? 'block' : 'none';\n",
              "\n",
              "        async function convertToInteractive(key) {\n",
              "          const element = document.querySelector('#df-c90ba993-3eca-4fb4-b0db-f86d81c6dfac');\n",
              "          const dataTable =\n",
              "            await google.colab.kernel.invokeFunction('convertToInteractive',\n",
              "                                                     [key], {});\n",
              "          if (!dataTable) return;\n",
              "\n",
              "          const docLinkHtml = 'Like what you see? Visit the ' +\n",
              "            '<a target=\"_blank\" href=https://colab.research.google.com/notebooks/data_table.ipynb>data table notebook</a>'\n",
              "            + ' to learn more about interactive tables.';\n",
              "          element.innerHTML = '';\n",
              "          dataTable['output_type'] = 'display_data';\n",
              "          await google.colab.output.renderOutput(dataTable, element);\n",
              "          const docLink = document.createElement('div');\n",
              "          docLink.innerHTML = docLinkHtml;\n",
              "          element.appendChild(docLink);\n",
              "        }\n",
              "      </script>\n",
              "    </div>\n",
              "  </div>\n",
              "  "
            ]
          },
          "metadata": {},
          "execution_count": 86
        }
      ]
    },
    {
      "cell_type": "code",
      "source": [
        "data.shape"
      ],
      "metadata": {
        "colab": {
          "base_uri": "https://localhost:8080/"
        },
        "id": "4O-xsZqZAdYo",
        "outputId": "7221bbbc-c793-4dda-8857-f4c9b210845d"
      },
      "execution_count": 87,
      "outputs": [
        {
          "output_type": "execute_result",
          "data": {
            "text/plain": [
              "(7109, 14)"
            ]
          },
          "metadata": {},
          "execution_count": 87
        }
      ]
    },
    {
      "cell_type": "code",
      "source": [
        "data.columns"
      ],
      "metadata": {
        "colab": {
          "base_uri": "https://localhost:8080/"
        },
        "id": "YBeBGLRjnBwQ",
        "outputId": "c3066840-181d-41cf-ba02-db49e18e2352"
      },
      "execution_count": 88,
      "outputs": [
        {
          "output_type": "execute_result",
          "data": {
            "text/plain": [
              "Index(['AREA', 'INT_SQFT', 'N_BEDROOM', 'N_ROOM', 'SALE_COND', 'PARK_FACIL',\n",
              "       'UTILITY_AVAIL', 'STREET', 'MZZONE', 'SALES_PRICE', 'AGE', 'Commercial',\n",
              "       'House', 'Other'],\n",
              "      dtype='object')"
            ]
          },
          "metadata": {},
          "execution_count": 88
        }
      ]
    },
    {
      "cell_type": "code",
      "source": [
        "data.info()"
      ],
      "metadata": {
        "colab": {
          "base_uri": "https://localhost:8080/"
        },
        "id": "pafW5KR9uc8q",
        "outputId": "0fb89e85-89cf-4bff-aeb9-a57f67180c34"
      },
      "execution_count": 89,
      "outputs": [
        {
          "output_type": "stream",
          "name": "stdout",
          "text": [
            "<class 'pandas.core.frame.DataFrame'>\n",
            "Int64Index: 7109 entries, 0 to 7108\n",
            "Data columns (total 14 columns):\n",
            " #   Column         Non-Null Count  Dtype  \n",
            "---  ------         --------------  -----  \n",
            " 0   AREA           7109 non-null   int64  \n",
            " 1   INT_SQFT       7109 non-null   int64  \n",
            " 2   N_BEDROOM      7109 non-null   float64\n",
            " 3   N_ROOM         7109 non-null   int64  \n",
            " 4   SALE_COND      7109 non-null   int64  \n",
            " 5   PARK_FACIL     7109 non-null   int64  \n",
            " 6   UTILITY_AVAIL  7109 non-null   int64  \n",
            " 7   STREET         7109 non-null   int64  \n",
            " 8   MZZONE         7109 non-null   int64  \n",
            " 9   SALES_PRICE    7109 non-null   int64  \n",
            " 10  AGE            7109 non-null   int64  \n",
            " 11  Commercial     7109 non-null   int64  \n",
            " 12  House          7109 non-null   int64  \n",
            " 13  Other          7109 non-null   int64  \n",
            "dtypes: float64(1), int64(13)\n",
            "memory usage: 1.1 MB\n"
          ]
        }
      ]
    },
    {
      "cell_type": "markdown",
      "source": [
        "# ***MODELING***\n",
        "\n",
        "\n",
        "\n",
        "\n",
        "---\n",
        "\n",
        "\n",
        "\n",
        "---\n",
        "\n",
        "\n",
        "\n",
        "\n"
      ],
      "metadata": {
        "id": "gyYC3G9wYzmb"
      }
    },
    {
      "cell_type": "markdown",
      "source": [
        "First step after enhanced data analysis is to segregate the features and target variables.\n",
        "\n",
        "Once the features and the target are set the following steps are followed:\n",
        "\n",
        "1.   Train Test Split\n",
        "2.   Scaling Data\n"
      ],
      "metadata": {
        "id": "fpWpJagyaoXC"
      }
    },
    {
      "cell_type": "markdown",
      "source": [
        "\n",
        "\n",
        "*   Setting Of Feature and Target Vriables\n",
        "\n",
        "\n",
        "\n",
        "---\n",
        "\n"
      ],
      "metadata": {
        "id": "r3Rdgz4ScmV1"
      }
    },
    {
      "cell_type": "code",
      "source": [
        "X = data[['AREA', 'INT_SQFT', 'N_BEDROOM', 'N_ROOM', 'SALE_COND', 'PARK_FACIL',\n",
        "       'UTILITY_AVAIL', 'STREET', 'MZZONE','AGE', 'Commercial','House', 'Other']]\n",
        "y = data['SALES_PRICE']"
      ],
      "metadata": {
        "id": "p368QECRoFSw"
      },
      "execution_count": 90,
      "outputs": []
    },
    {
      "cell_type": "markdown",
      "source": [
        "\n",
        "\n",
        "*   Test Train Split\n",
        "---\n",
        "\n"
      ],
      "metadata": {
        "id": "ziQ1zCDYZYJS"
      }
    },
    {
      "cell_type": "code",
      "source": [
        "from sklearn.model_selection import train_test_split\n",
        "X_train, X_test, y_train, y_test = train_test_split(X, y, test_size=0.2, random_state=0 )"
      ],
      "metadata": {
        "id": "vtutATn6ZhXx"
      },
      "execution_count": 91,
      "outputs": []
    },
    {
      "cell_type": "markdown",
      "source": [
        "\n",
        "\n",
        "*   Scaling\n",
        "\n",
        "\n",
        "---\n",
        "\n",
        "\n",
        "\n"
      ],
      "metadata": {
        "id": "NMDgX2_7aTEj"
      }
    },
    {
      "cell_type": "code",
      "source": [
        "from sklearn.preprocessing import StandardScaler\n",
        "scaler = StandardScaler()\n",
        "scaler.fit(X_train)\n",
        "X_train= scaler.transform(X_train)\n",
        "X_test= scaler.transform(X_test)"
      ],
      "metadata": {
        "id": "mI51ajq8aR2W"
      },
      "execution_count": 92,
      "outputs": []
    },
    {
      "cell_type": "code",
      "source": [
        "X_train.shape, X_test.shape, y_train.shape, y_test.shape"
      ],
      "metadata": {
        "colab": {
          "base_uri": "https://localhost:8080/"
        },
        "id": "Q_2SNMAwaj7u",
        "outputId": "6a20c32f-d047-4fd2-dfb2-5934931b1b90"
      },
      "execution_count": 93,
      "outputs": [
        {
          "output_type": "execute_result",
          "data": {
            "text/plain": [
              "((5687, 13), (1422, 13), (5687,), (1422,))"
            ]
          },
          "metadata": {},
          "execution_count": 93
        }
      ]
    },
    {
      "cell_type": "markdown",
      "source": [
        "Now that the data is ready, I am performing the following modeling techniques to study and analyze the performance of each model.\n",
        "\n",
        "Since there exists a linearity in the data, also the values are continuous and being a supervised learning data set, I am therefore performing the following models.\n",
        "\n",
        "*   Linear Regression\n",
        "*   KNN Regression\n",
        "*   Decision Tree Regression\n",
        "*   Random Forest \n",
        "*   XG Boost\n",
        "\n"
      ],
      "metadata": {
        "id": "VvEr1sVVegXp"
      }
    },
    {
      "cell_type": "markdown",
      "source": [
        "\n",
        "\n",
        "1.   **LINEAR REGRESSION**\n",
        "\n",
        "\n",
        "\n",
        "---\n",
        "\n",
        "\n",
        "\n",
        "---\n",
        "\n"
      ],
      "metadata": {
        "id": "TvW6ScRWRMxn"
      }
    },
    {
      "cell_type": "code",
      "source": [
        "from sklearn.linear_model import LinearRegression\n",
        "from sklearn import metrics "
      ],
      "metadata": {
        "id": "hxLlmc7GRSlf"
      },
      "execution_count": 94,
      "outputs": []
    },
    {
      "cell_type": "code",
      "source": [
        "regressor = LinearRegression()\n",
        "regressor.fit(X_train, y_train)\n",
        "regressor.score(X_test,y_test)"
      ],
      "metadata": {
        "colab": {
          "base_uri": "https://localhost:8080/"
        },
        "id": "gJucDbJCqOyp",
        "outputId": "2a7179ac-b251-4829-a15d-b4eb55685508"
      },
      "execution_count": 95,
      "outputs": [
        {
          "output_type": "execute_result",
          "data": {
            "text/plain": [
              "0.9248257280521286"
            ]
          },
          "metadata": {},
          "execution_count": 95
        }
      ]
    },
    {
      "cell_type": "code",
      "source": [
        "y_pred = regressor.predict(X_test)\n",
        "y_pred"
      ],
      "metadata": {
        "id": "RlBwp_rSqgZo",
        "colab": {
          "base_uri": "https://localhost:8080/"
        },
        "outputId": "c802478b-a42d-4aba-a211-c8dc02f11855"
      },
      "execution_count": 96,
      "outputs": [
        {
          "output_type": "execute_result",
          "data": {
            "text/plain": [
              "array([14155279.56585282, 13418984.56526105, 18452989.94502123, ...,\n",
              "       13768539.31955463, 15852206.82471432,  8102915.56880646])"
            ]
          },
          "metadata": {},
          "execution_count": 96
        }
      ]
    },
    {
      "cell_type": "code",
      "source": [
        "df = pd.DataFrame({'Actual': y_test, 'Predicted': y_pred})\n",
        "df"
      ],
      "metadata": {
        "id": "d1C2Ozqiqihu",
        "colab": {
          "base_uri": "https://localhost:8080/",
          "height": 424
        },
        "outputId": "c80b6fe0-8f71-434e-83ca-750a30df8586"
      },
      "execution_count": 97,
      "outputs": [
        {
          "output_type": "execute_result",
          "data": {
            "text/plain": [
              "        Actual     Predicted\n",
              "3913  13376150  1.415528e+07\n",
              "2726  12857440  1.341898e+07\n",
              "6220  19124310  1.845299e+07\n",
              "2716   4905000  4.294423e+06\n",
              "5459  13534450  1.321026e+07\n",
              "...        ...           ...\n",
              "3524   9987005  9.981028e+06\n",
              "3010   5821000  6.286144e+06\n",
              "66    13364730  1.376854e+07\n",
              "1642  17115030  1.585221e+07\n",
              "5577   8224000  8.102916e+06\n",
              "\n",
              "[1422 rows x 2 columns]"
            ],
            "text/html": [
              "\n",
              "  <div id=\"df-5485edf7-e8ec-4aaa-a884-37f8613327ce\">\n",
              "    <div class=\"colab-df-container\">\n",
              "      <div>\n",
              "<style scoped>\n",
              "    .dataframe tbody tr th:only-of-type {\n",
              "        vertical-align: middle;\n",
              "    }\n",
              "\n",
              "    .dataframe tbody tr th {\n",
              "        vertical-align: top;\n",
              "    }\n",
              "\n",
              "    .dataframe thead th {\n",
              "        text-align: right;\n",
              "    }\n",
              "</style>\n",
              "<table border=\"1\" class=\"dataframe\">\n",
              "  <thead>\n",
              "    <tr style=\"text-align: right;\">\n",
              "      <th></th>\n",
              "      <th>Actual</th>\n",
              "      <th>Predicted</th>\n",
              "    </tr>\n",
              "  </thead>\n",
              "  <tbody>\n",
              "    <tr>\n",
              "      <th>3913</th>\n",
              "      <td>13376150</td>\n",
              "      <td>1.415528e+07</td>\n",
              "    </tr>\n",
              "    <tr>\n",
              "      <th>2726</th>\n",
              "      <td>12857440</td>\n",
              "      <td>1.341898e+07</td>\n",
              "    </tr>\n",
              "    <tr>\n",
              "      <th>6220</th>\n",
              "      <td>19124310</td>\n",
              "      <td>1.845299e+07</td>\n",
              "    </tr>\n",
              "    <tr>\n",
              "      <th>2716</th>\n",
              "      <td>4905000</td>\n",
              "      <td>4.294423e+06</td>\n",
              "    </tr>\n",
              "    <tr>\n",
              "      <th>5459</th>\n",
              "      <td>13534450</td>\n",
              "      <td>1.321026e+07</td>\n",
              "    </tr>\n",
              "    <tr>\n",
              "      <th>...</th>\n",
              "      <td>...</td>\n",
              "      <td>...</td>\n",
              "    </tr>\n",
              "    <tr>\n",
              "      <th>3524</th>\n",
              "      <td>9987005</td>\n",
              "      <td>9.981028e+06</td>\n",
              "    </tr>\n",
              "    <tr>\n",
              "      <th>3010</th>\n",
              "      <td>5821000</td>\n",
              "      <td>6.286144e+06</td>\n",
              "    </tr>\n",
              "    <tr>\n",
              "      <th>66</th>\n",
              "      <td>13364730</td>\n",
              "      <td>1.376854e+07</td>\n",
              "    </tr>\n",
              "    <tr>\n",
              "      <th>1642</th>\n",
              "      <td>17115030</td>\n",
              "      <td>1.585221e+07</td>\n",
              "    </tr>\n",
              "    <tr>\n",
              "      <th>5577</th>\n",
              "      <td>8224000</td>\n",
              "      <td>8.102916e+06</td>\n",
              "    </tr>\n",
              "  </tbody>\n",
              "</table>\n",
              "<p>1422 rows × 2 columns</p>\n",
              "</div>\n",
              "      <button class=\"colab-df-convert\" onclick=\"convertToInteractive('df-5485edf7-e8ec-4aaa-a884-37f8613327ce')\"\n",
              "              title=\"Convert this dataframe to an interactive table.\"\n",
              "              style=\"display:none;\">\n",
              "        \n",
              "  <svg xmlns=\"http://www.w3.org/2000/svg\" height=\"24px\"viewBox=\"0 0 24 24\"\n",
              "       width=\"24px\">\n",
              "    <path d=\"M0 0h24v24H0V0z\" fill=\"none\"/>\n",
              "    <path d=\"M18.56 5.44l.94 2.06.94-2.06 2.06-.94-2.06-.94-.94-2.06-.94 2.06-2.06.94zm-11 1L8.5 8.5l.94-2.06 2.06-.94-2.06-.94L8.5 2.5l-.94 2.06-2.06.94zm10 10l.94 2.06.94-2.06 2.06-.94-2.06-.94-.94-2.06-.94 2.06-2.06.94z\"/><path d=\"M17.41 7.96l-1.37-1.37c-.4-.4-.92-.59-1.43-.59-.52 0-1.04.2-1.43.59L10.3 9.45l-7.72 7.72c-.78.78-.78 2.05 0 2.83L4 21.41c.39.39.9.59 1.41.59.51 0 1.02-.2 1.41-.59l7.78-7.78 2.81-2.81c.8-.78.8-2.07 0-2.86zM5.41 20L4 18.59l7.72-7.72 1.47 1.35L5.41 20z\"/>\n",
              "  </svg>\n",
              "      </button>\n",
              "      \n",
              "  <style>\n",
              "    .colab-df-container {\n",
              "      display:flex;\n",
              "      flex-wrap:wrap;\n",
              "      gap: 12px;\n",
              "    }\n",
              "\n",
              "    .colab-df-convert {\n",
              "      background-color: #E8F0FE;\n",
              "      border: none;\n",
              "      border-radius: 50%;\n",
              "      cursor: pointer;\n",
              "      display: none;\n",
              "      fill: #1967D2;\n",
              "      height: 32px;\n",
              "      padding: 0 0 0 0;\n",
              "      width: 32px;\n",
              "    }\n",
              "\n",
              "    .colab-df-convert:hover {\n",
              "      background-color: #E2EBFA;\n",
              "      box-shadow: 0px 1px 2px rgba(60, 64, 67, 0.3), 0px 1px 3px 1px rgba(60, 64, 67, 0.15);\n",
              "      fill: #174EA6;\n",
              "    }\n",
              "\n",
              "    [theme=dark] .colab-df-convert {\n",
              "      background-color: #3B4455;\n",
              "      fill: #D2E3FC;\n",
              "    }\n",
              "\n",
              "    [theme=dark] .colab-df-convert:hover {\n",
              "      background-color: #434B5C;\n",
              "      box-shadow: 0px 1px 3px 1px rgba(0, 0, 0, 0.15);\n",
              "      filter: drop-shadow(0px 1px 2px rgba(0, 0, 0, 0.3));\n",
              "      fill: #FFFFFF;\n",
              "    }\n",
              "  </style>\n",
              "\n",
              "      <script>\n",
              "        const buttonEl =\n",
              "          document.querySelector('#df-5485edf7-e8ec-4aaa-a884-37f8613327ce button.colab-df-convert');\n",
              "        buttonEl.style.display =\n",
              "          google.colab.kernel.accessAllowed ? 'block' : 'none';\n",
              "\n",
              "        async function convertToInteractive(key) {\n",
              "          const element = document.querySelector('#df-5485edf7-e8ec-4aaa-a884-37f8613327ce');\n",
              "          const dataTable =\n",
              "            await google.colab.kernel.invokeFunction('convertToInteractive',\n",
              "                                                     [key], {});\n",
              "          if (!dataTable) return;\n",
              "\n",
              "          const docLinkHtml = 'Like what you see? Visit the ' +\n",
              "            '<a target=\"_blank\" href=https://colab.research.google.com/notebooks/data_table.ipynb>data table notebook</a>'\n",
              "            + ' to learn more about interactive tables.';\n",
              "          element.innerHTML = '';\n",
              "          dataTable['output_type'] = 'display_data';\n",
              "          await google.colab.output.renderOutput(dataTable, element);\n",
              "          const docLink = document.createElement('div');\n",
              "          docLink.innerHTML = docLinkHtml;\n",
              "          element.appendChild(docLink);\n",
              "        }\n",
              "      </script>\n",
              "    </div>\n",
              "  </div>\n",
              "  "
            ]
          },
          "metadata": {},
          "execution_count": 97
        }
      ]
    },
    {
      "cell_type": "markdown",
      "source": [
        "\n",
        "> Evaluation\n",
        "\n",
        "\n",
        "---\n",
        "\n",
        "\n",
        "\n"
      ],
      "metadata": {
        "id": "eu1wUjLpqsd3"
      }
    },
    {
      "cell_type": "code",
      "source": [
        "print('R2- SCORE:', metrics.r2_score(y_test,y_pred))"
      ],
      "metadata": {
        "id": "B_eqJzobqvci",
        "colab": {
          "base_uri": "https://localhost:8080/"
        },
        "outputId": "1d06b3bb-6a66-4841-ec6a-1b720ce80144"
      },
      "execution_count": 98,
      "outputs": [
        {
          "output_type": "stream",
          "name": "stdout",
          "text": [
            "R2- SCORE: 0.9248257280521286\n"
          ]
        }
      ]
    },
    {
      "cell_type": "markdown",
      "source": [
        "\n",
        "\n",
        "2.   **KNN-REGRESSION**\n",
        "\n",
        "\n",
        "\n",
        "---\n",
        "\n",
        "\n",
        "\n",
        "---\n",
        "\n"
      ],
      "metadata": {
        "id": "KDi2sB4xv4va"
      }
    },
    {
      "cell_type": "code",
      "source": [
        "from sklearn.neighbors import KNeighborsRegressor\n",
        "from sklearn.model_selection import cross_val_score"
      ],
      "metadata": {
        "id": "6ayJuHJ0v-MA"
      },
      "execution_count": 99,
      "outputs": []
    },
    {
      "cell_type": "code",
      "source": [
        "for i in [1,2,3,4,5,6,7,8,9,10,20,30,40,50]:\n",
        "  knn= KNeighborsRegressor(i)                #best value of k =5, 0.9365004288125102\n",
        "  knn.fit(X_train, y_train)\n",
        "  print(\"K value  :\", i, \"Cross Value Accuracy :\" , np.mean(cross_val_score(knn, X_train, y_train, cv=10)))"
      ],
      "metadata": {
        "id": "cbbc6z5awwfj",
        "colab": {
          "base_uri": "https://localhost:8080/"
        },
        "outputId": "0350ebd5-ede2-4dbc-a71a-c33b79931651"
      },
      "execution_count": 100,
      "outputs": [
        {
          "output_type": "stream",
          "name": "stdout",
          "text": [
            "K value  : 1 Cross Value Accuracy : 0.9223112373060994\n",
            "K value  : 2 Cross Value Accuracy : 0.9414323644391551\n",
            "K value  : 3 Cross Value Accuracy : 0.9458973127781796\n",
            "K value  : 4 Cross Value Accuracy : 0.947130404297232\n",
            "K value  : 5 Cross Value Accuracy : 0.9474804716856982\n",
            "K value  : 6 Cross Value Accuracy : 0.9472275588635408\n",
            "K value  : 7 Cross Value Accuracy : 0.9460343898088432\n",
            "K value  : 8 Cross Value Accuracy : 0.9447864611854927\n",
            "K value  : 9 Cross Value Accuracy : 0.9434354815872646\n",
            "K value  : 10 Cross Value Accuracy : 0.941847940117962\n",
            "K value  : 20 Cross Value Accuracy : 0.930279430214284\n",
            "K value  : 30 Cross Value Accuracy : 0.9211874764921196\n",
            "K value  : 40 Cross Value Accuracy : 0.9129451243687011\n",
            "K value  : 50 Cross Value Accuracy : 0.9068318876236077\n"
          ]
        }
      ]
    },
    {
      "cell_type": "markdown",
      "source": [
        "\n",
        "\n",
        "> Evaluation\n",
        "\n",
        "\n",
        "---\n",
        "\n",
        "\n",
        "\n",
        "\n",
        "\n"
      ],
      "metadata": {
        "id": "pA9I99JHgczm"
      }
    },
    {
      "cell_type": "code",
      "source": [
        "print('R2- SCORE:', metrics.r2_score(y_test,y_pred))"
      ],
      "metadata": {
        "colab": {
          "base_uri": "https://localhost:8080/"
        },
        "id": "Fgu5Vwf29ag7",
        "outputId": "87d0d2d3-5173-4acc-ff73-5a029f7513df"
      },
      "execution_count": 101,
      "outputs": [
        {
          "output_type": "stream",
          "name": "stdout",
          "text": [
            "R2- SCORE: 0.9248257280521286\n"
          ]
        }
      ]
    },
    {
      "cell_type": "markdown",
      "source": [
        "\n",
        "\n",
        "3.   **DECISION TREE**\n",
        "\n",
        "\n",
        "\n",
        "\n",
        "---\n",
        "\n",
        "\n",
        "\n",
        "---\n",
        "\n"
      ],
      "metadata": {
        "id": "fPllACYRysj2"
      }
    },
    {
      "cell_type": "code",
      "source": [
        "from sklearn.model_selection import train_test_split\n",
        "from sklearn.tree import DecisionTreeRegressor\n",
        "from sklearn.metrics import mean_squared_error, r2_score"
      ],
      "metadata": {
        "id": "Eu3_n4NxyzeU"
      },
      "execution_count": 102,
      "outputs": []
    },
    {
      "cell_type": "code",
      "source": [
        "for depth in [1,2,3,4,5,6,7,8,9,10,20,40,60,70,100,150]:\n",
        "  dt= DecisionTreeRegressor(max_depth= depth)\n",
        "  dt.fit(X_train, y_train)\n",
        "  accuracy= r2_score(y_test,dt.predict(X_test))\n",
        "  val= cross_val_score(dt, X, y, cv=10)\n",
        "  print('K:',depth,'R2 Score:',accuracy,'Cross Val Score:',np.mean(val))"
      ],
      "metadata": {
        "id": "fvDBoBW3zZIv",
        "colab": {
          "base_uri": "https://localhost:8080/"
        },
        "outputId": "32e40363-fd57-4d74-9db1-98505b41ece0"
      },
      "execution_count": 103,
      "outputs": [
        {
          "output_type": "stream",
          "name": "stdout",
          "text": [
            "K: 1 R2 Score: 0.3549736023125779 Cross Val Score: 0.3588875752516194\n",
            "K: 2 R2 Score: 0.7003834039205055 Cross Val Score: 0.6819059001742293\n",
            "K: 3 R2 Score: 0.8008214951832524 Cross Val Score: 0.8016324100218641\n",
            "K: 4 R2 Score: 0.8807799567746913 Cross Val Score: 0.8819859315127905\n",
            "K: 5 R2 Score: 0.9146638411022208 Cross Val Score: 0.9151788848886108\n",
            "K: 6 R2 Score: 0.9370783882679491 Cross Val Score: 0.9358665043374771\n",
            "K: 7 R2 Score: 0.9481395134303794 Cross Val Score: 0.9505617756560074\n",
            "K: 8 R2 Score: 0.960066503045388 Cross Val Score: 0.9621150596146976\n",
            "K: 9 R2 Score: 0.966815722568278 Cross Val Score: 0.9691195547851427\n",
            "K: 10 R2 Score: 0.9696750816563277 Cross Val Score: 0.972651857342503\n",
            "K: 20 R2 Score: 0.9755147924625984 Cross Val Score: 0.9755392114090556\n",
            "K: 40 R2 Score: 0.9745253563512565 Cross Val Score: 0.9755778099254684\n",
            "K: 60 R2 Score: 0.9745957222785048 Cross Val Score: 0.9759179121505017\n",
            "K: 70 R2 Score: 0.9747013477870433 Cross Val Score: 0.9757848892214529\n",
            "K: 100 R2 Score: 0.9739403316607016 Cross Val Score: 0.9758255785091052\n",
            "K: 150 R2 Score: 0.9746210045553922 Cross Val Score: 0.9757181040181184\n"
          ]
        }
      ]
    },
    {
      "cell_type": "markdown",
      "source": [
        "\n",
        "\n",
        "> Evaluation\n",
        "\n",
        "\n",
        "---\n",
        "\n",
        "\n",
        "\n"
      ],
      "metadata": {
        "id": "yv55mSpAha7E"
      }
    },
    {
      "cell_type": "code",
      "source": [
        "y_pred = dt.predict(X_test)\n",
        "\n",
        "mse_dt = mean_squared_error(y_test, y_pred)\n",
        "rsquared = r2_score(y_test,y_pred)\n",
        "\n",
        "rmse_dt = mse_dt ** (1/2)\n",
        "\n",
        "print(\"Test set RMSE of dt: {:.2f}\".format(rmse_dt))\n",
        "print(\"Test set R2 of dt: {:.2f}\".format(rsquared))"
      ],
      "metadata": {
        "id": "a0yKj3zA0E5Q",
        "colab": {
          "base_uri": "https://localhost:8080/"
        },
        "outputId": "ba7f52d0-158d-4804-86a2-6e453d62dfc9"
      },
      "execution_count": 104,
      "outputs": [
        {
          "output_type": "stream",
          "name": "stdout",
          "text": [
            "Test set RMSE of dt: 587004.63\n",
            "Test set R2 of dt: 0.97\n"
          ]
        }
      ]
    },
    {
      "cell_type": "markdown",
      "source": [
        "\n",
        "\n",
        "4.   **RANDOM FOREST**\n",
        "\n",
        "\n",
        "\n",
        "---\n",
        "\n",
        "\n",
        "\n",
        "---\n",
        "\n"
      ],
      "metadata": {
        "id": "OC64IpBYgNYx"
      }
    },
    {
      "cell_type": "code",
      "source": [
        "from sklearn.ensemble import RandomForestRegressor"
      ],
      "metadata": {
        "id": "0cdyPTuJgY7K"
      },
      "execution_count": 105,
      "outputs": []
    },
    {
      "cell_type": "code",
      "source": [
        "rf = RandomForestRegressor(n_estimators= 100, max_depth = 3, max_features='sqrt')\n",
        "rf.fit(X_train, y_train);\n",
        "predictions = rf.predict(X_test)"
      ],
      "metadata": {
        "id": "JzZNSMOsg9kO"
      },
      "execution_count": 106,
      "outputs": []
    },
    {
      "cell_type": "markdown",
      "source": [
        "\n",
        "\n",
        "> Evaluation\n",
        "\n",
        "\n",
        "---\n",
        "\n",
        "\n",
        "\n"
      ],
      "metadata": {
        "id": "aOYd6hmsisn1"
      }
    },
    {
      "cell_type": "code",
      "source": [
        "errors = abs(predictions - y_test)\n",
        "print('MAE :', round(np.mean(errors), 2), 'degrees.')\n",
        "print('R2Score :',metrics.r2_score(y_test,y_pred))"
      ],
      "metadata": {
        "colab": {
          "base_uri": "https://localhost:8080/"
        },
        "id": "WHeWm8BAiqK1",
        "outputId": "551333e0-d017-43ad-ab02-90380f5f72e0"
      },
      "execution_count": 107,
      "outputs": [
        {
          "output_type": "stream",
          "name": "stdout",
          "text": [
            "MAE : 1330945.38 degrees.\n",
            "R2Score : 0.9746210045553922\n"
          ]
        }
      ]
    },
    {
      "cell_type": "markdown",
      "source": [
        "\n",
        "\n",
        "5.   **XG Boosting**\n",
        "\n",
        "\n",
        "\n",
        "---\n",
        "\n",
        "\n",
        "\n",
        "---\n",
        "\n"
      ],
      "metadata": {
        "id": "m5WjRlKO0R3s"
      }
    },
    {
      "cell_type": "code",
      "source": [
        "import xgboost as xgb\n",
        "from sklearn.model_selection import cross_val_score"
      ],
      "metadata": {
        "id": "B4iQQ5js0aVf"
      },
      "execution_count": 108,
      "outputs": []
    },
    {
      "cell_type": "code",
      "source": [
        "for lr in [0.01,0.02,0.03,0.04,0.05,0.1,0.11,0.12,0.13,0.14,0.15,0.2,0.5,0.7,1]:\n",
        "  model = xgb.XGBRegressor(learning_rate = lr, n_estimators=100, verbosity = 0) # initialise the model\n",
        "  model.fit(X_train,y_train) #train the model\n",
        "  model.score(X_test, y_test) # scoring the model - r2 squared\n",
        "  print(\"Learning rate : \", lr, \" Train score : \", model.score(X_test,y_test), \" Cross-Val score : \", np.mean(cross_val_score(model, X_train, y_train, cv=10)))"
      ],
      "metadata": {
        "id": "oPWwyhVU2bix",
        "colab": {
          "base_uri": "https://localhost:8080/"
        },
        "outputId": "8a8c5332-4ac0-40f3-8ed5-32b8bc676521"
      },
      "execution_count": 109,
      "outputs": [
        {
          "output_type": "stream",
          "name": "stdout",
          "text": [
            "Learning rate :  0.01  Train score :  -0.40411510282864693  Cross-Val score :  -0.382646343858797\n",
            "Learning rate :  0.02  Train score :  0.7463416238989984  Cross-Val score :  0.7438225429743233\n",
            "Learning rate :  0.03  Train score :  0.9270067255166086  Cross-Val score :  0.9226724630076566\n",
            "Learning rate :  0.04  Train score :  0.9637855343131054  Cross-Val score :  0.960382225425327\n",
            "Learning rate :  0.05  Train score :  0.9755811026150208  Cross-Val score :  0.972927779680641\n",
            "Learning rate :  0.1  Train score :  0.9926494629263161  Cross-Val score :  0.991268433236319\n",
            "Learning rate :  0.11  Train score :  0.9935622861199294  Cross-Val score :  0.9922254949408298\n",
            "Learning rate :  0.12  Train score :  0.9938328298903718  Cross-Val score :  0.9931934638399381\n",
            "Learning rate :  0.13  Train score :  0.9944505605280141  Cross-Val score :  0.9939123010168738\n",
            "Learning rate :  0.14  Train score :  0.9953570835333727  Cross-Val score :  0.9945469542912602\n",
            "Learning rate :  0.15  Train score :  0.9954848326084981  Cross-Val score :  0.9948958186365221\n",
            "Learning rate :  0.2  Train score :  0.9958491524335146  Cross-Val score :  0.9957376427606611\n",
            "Learning rate :  0.5  Train score :  0.9968527921634635  Cross-Val score :  0.9966146936782092\n",
            "Learning rate :  0.7  Train score :  0.9977299740052276  Cross-Val score :  0.9972534096832615\n",
            "Learning rate :  1  Train score :  0.9960965988378818  Cross-Val score :  0.9962899751323908\n"
          ]
        }
      ]
    },
    {
      "cell_type": "code",
      "source": [
        "model = xgb.XGBRegressor(learning_rate = 0.7, n_estimators=100, verbosity = 0)\n",
        "model.fit(X_train,y_train) #train the model\n",
        "model.score(X_test, y_test) # scoring the model - r2 squared\n",
        "y_pred = model.predict(X_test)"
      ],
      "metadata": {
        "id": "A5PI2gknjnPW"
      },
      "execution_count": 110,
      "outputs": []
    },
    {
      "cell_type": "markdown",
      "source": [
        "\n",
        "\n",
        "> Evaluation\n",
        "\n",
        "\n",
        "---\n",
        "\n",
        "\n",
        "\n"
      ],
      "metadata": {
        "id": "F2tO913sjjCC"
      }
    },
    {
      "cell_type": "code",
      "source": [
        "print('R2- SCORE:', metrics.r2_score(y_test,y_pred))"
      ],
      "metadata": {
        "colab": {
          "base_uri": "https://localhost:8080/"
        },
        "id": "ZM-3wt1Djnj9",
        "outputId": "f442d89d-4f42-4c69-b3c1-f1754bb9c2c2"
      },
      "execution_count": 111,
      "outputs": [
        {
          "output_type": "stream",
          "name": "stdout",
          "text": [
            "R2- SCORE: 0.9977299740052276\n"
          ]
        }
      ]
    },
    {
      "cell_type": "markdown",
      "source": [
        "# ***Summary***\n",
        "\n",
        "\n",
        "---\n",
        "\n",
        "---\n"
      ],
      "metadata": {
        "id": "8ch0Jagskicr"
      }
    },
    {
      "cell_type": "markdown",
      "source": [
        "I have successfully constructed all the models and the outcomes from the evaluation are as follows:\n",
        "\n",
        "\n",
        "1.   Linear Regression with R2_Score: **0.9248257280521286**\n",
        "\n",
        "2.   KNN Regression with R2_Score: **0.9248257280521286**\n",
        "\n",
        "3.   Decision Tree Regression with R2_Score: **0.97**\n",
        "\n",
        "4.   Random Forest with R2_Score: **0.9746931257147039**\n",
        "\n",
        "5.   XG Boost with R2_Score: **0.9977299740052276**\n",
        "\n",
        "\n",
        "Hence, the best evaluation models is ***XG BOOST***\n",
        "\n",
        "\n",
        "\n",
        "\n"
      ],
      "metadata": {
        "id": "uBGDOlKzk1sY"
      }
    },
    {
      "cell_type": "markdown",
      "source": [
        "# ***FEATURE IMPORTANCE***\n",
        "\n",
        "---\n",
        "\n",
        "\n",
        "\n",
        "---\n",
        "\n"
      ],
      "metadata": {
        "id": "cRg9gQjsiwhf"
      }
    },
    {
      "cell_type": "code",
      "source": [
        "importances = list(model.feature_importances_)\n",
        "\n",
        "# List of tuples with variable and importance\n",
        "feature_importances = [(feature, round(importance, 2)) for feature, importance in zip(X, importances)]\n",
        "\n",
        "# Sort the feature importances by most important first\n",
        "feature_importances = sorted(feature_importances, key = lambda x: x[1], reverse = True)\n",
        "\n",
        "# Print out the feature and importances \n",
        "[print('Variable: {:20} Importance: {}'.format(*pair)) for pair in feature_importances];"
      ],
      "metadata": {
        "colab": {
          "base_uri": "https://localhost:8080/"
        },
        "id": "T7HGfb8HizvL",
        "outputId": "ded03727-031a-41f2-ff27-7d64f4710af8"
      },
      "execution_count": 112,
      "outputs": [
        {
          "output_type": "stream",
          "name": "stdout",
          "text": [
            "Variable: Commercial           Importance: 0.4699999988079071\n",
            "Variable: AREA                 Importance: 0.3400000035762787\n",
            "Variable: PARK_FACIL           Importance: 0.05000000074505806\n",
            "Variable: INT_SQFT             Importance: 0.029999999329447746\n",
            "Variable: MZZONE               Importance: 0.029999999329447746\n",
            "Variable: STREET               Importance: 0.019999999552965164\n",
            "Variable: House                Importance: 0.019999999552965164\n",
            "Variable: N_BEDROOM            Importance: 0.009999999776482582\n",
            "Variable: N_ROOM               Importance: 0.009999999776482582\n",
            "Variable: SALE_COND            Importance: 0.009999999776482582\n",
            "Variable: UTILITY_AVAIL        Importance: 0.0\n",
            "Variable: AGE                  Importance: 0.0\n",
            "Variable: Other                Importance: 0.0\n"
          ]
        }
      ]
    },
    {
      "cell_type": "markdown",
      "source": [
        "# ***CONCLUSION***\n",
        "\n",
        "\n",
        "---\n",
        "\n",
        "\n",
        "\n",
        "---\n",
        "\n"
      ],
      "metadata": {
        "id": "Q1HT-pJTmA4Q"
      }
    },
    {
      "cell_type": "markdown",
      "source": [
        "After doing an in depth data cleaning and enhanced data analysis, I am able to construct models with accurate predictions.\n",
        "\n",
        "Thus I have arrived at the answers to the question stated earlier as follows:\n",
        "\n",
        "1. We have sucessfully built the models from wich we have seen that XG BOOST to give the most acurate results for the customers.\n",
        "\n",
        "2. Some of the features that can fetch more money for the sellers are \n",
        "\n",
        "\n",
        "*   Commercial Buildings\n",
        "\n",
        "*   Area of the house\n",
        "\n",
        "*   Parking Facilities\n",
        "\n",
        "*   Int Sqfeet\n",
        "\n",
        "*   MZZone locations\n",
        "\n",
        "\n",
        "\n",
        "\n",
        "\n"
      ],
      "metadata": {
        "id": "EDfj_InQmNFq"
      }
    }
  ]
}